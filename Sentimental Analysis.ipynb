{
 "cells": [
  {
   "cell_type": "markdown",
   "id": "db992951",
   "metadata": {
    "papermill": {
     "duration": 0.004887,
     "end_time": "2022-11-08T17:09:36.449749",
     "exception": false,
     "start_time": "2022-11-08T17:09:36.444862",
     "status": "completed"
    },
    "tags": []
   },
   "source": [
    "In this project we analyse textual data from Glassdoor to understand how employees rate their firms and how ratings can be predicted from the different types of comments left by employees. The dataset contains several types of ratings from 1 to 5 on different topics such as work-life balance, career opportunities and so on. For each review there is a headline, a pros and a cons rubric, as well as the date of the review, the firm rated, the title of the reviewer and her current situation."
   ]
  },
  {
   "cell_type": "code",
   "execution_count": 5,
   "id": "94899c8a",
   "metadata": {
    "_cell_guid": "b1076dfc-b9ad-4769-8c92-a6c4dae69d19",
    "_uuid": "8f2839f25d086af736a60e9eeb907d3b93b6e0e5",
    "execution": {
     "iopub.execute_input": "2022-11-08T17:09:36.459813Z",
     "iopub.status.busy": "2022-11-08T17:09:36.459113Z",
     "iopub.status.idle": "2022-11-08T17:09:38.466944Z",
     "shell.execute_reply": "2022-11-08T17:09:38.465321Z"
    },
    "papermill": {
     "duration": 2.015987,
     "end_time": "2022-11-08T17:09:38.469712",
     "exception": false,
     "start_time": "2022-11-08T17:09:36.453725",
     "status": "completed"
    },
    "tags": []
   },
   "outputs": [],
   "source": [
    "import numpy as np # linear algebra\n",
    "import pandas as pd # data processing, CSV file I/O (e.g. pd.read_csv)\n",
    "import missingno as msno\n",
    "import nltk\n",
    "import matplotlib.pyplot as plt\n",
    "import seaborn as sns\n",
    "from textblob import TextBlob\n",
    "from termcolor import colored\n",
    "from sklearn.impute import SimpleImputer\n",
    "\n",
    "import os\n"
   ]
  },
  {
   "cell_type": "code",
   "execution_count": 6,
   "id": "e0f8e4aa",
   "metadata": {},
   "outputs": [
    {
     "name": "stdout",
     "output_type": "stream",
     "text": [
      "\u001b[31mERROR: Could not find a version that satisfies the requirement text.blob (from versions: none)\u001b[0m\u001b[31m\n",
      "\u001b[0m\u001b[31mERROR: No matching distribution found for text.blob\u001b[0m\u001b[31m\n",
      "\u001b[0mNote: you may need to restart the kernel to use updated packages.\n"
     ]
    }
   ],
   "source": [
    "pip install text.blob"
   ]
  },
  {
   "cell_type": "markdown",
   "id": "6a06c4c8",
   "metadata": {
    "papermill": {
     "duration": 0.0043,
     "end_time": "2022-11-08T17:09:38.478965",
     "exception": false,
     "start_time": "2022-11-08T17:09:38.474665",
     "status": "completed"
    },
    "tags": []
   },
   "source": [
    "Here we load the reviews and focus on text data and the final firm's rating."
   ]
  },
  {
   "cell_type": "code",
   "execution_count": 7,
   "id": "cf24b02b",
   "metadata": {
    "execution": {
     "iopub.execute_input": "2022-11-08T17:09:38.491823Z",
     "iopub.status.busy": "2022-11-08T17:09:38.490839Z",
     "iopub.status.idle": "2022-11-08T17:09:48.276100Z",
     "shell.execute_reply": "2022-11-08T17:09:48.275027Z"
    },
    "papermill": {
     "duration": 9.794494,
     "end_time": "2022-11-08T17:09:48.278542",
     "exception": false,
     "start_time": "2022-11-08T17:09:38.484048",
     "status": "completed"
    },
    "tags": []
   },
   "outputs": [],
   "source": [
    "# Load Data\n",
    "data    = pd.read_csv('Senti.csv', sep=',', encoding='latin-1')\n",
    "Notkeep = [d for d in data.columns if d not in ['overall_rating','headline','pros','cons','firm','date_review']]\n",
    "data    = data.drop(columns=Notkeep)\n",
    "data['date_review'] = pd.to_datetime(data['date_review'])"
   ]
  },
  {
   "cell_type": "code",
   "execution_count": 8,
   "id": "c2321e93",
   "metadata": {},
   "outputs": [
    {
     "data": {
      "text/html": [
       "<div>\n",
       "<style scoped>\n",
       "    .dataframe tbody tr th:only-of-type {\n",
       "        vertical-align: middle;\n",
       "    }\n",
       "\n",
       "    .dataframe tbody tr th {\n",
       "        vertical-align: top;\n",
       "    }\n",
       "\n",
       "    .dataframe thead th {\n",
       "        text-align: right;\n",
       "    }\n",
       "</style>\n",
       "<table border=\"1\" class=\"dataframe\">\n",
       "  <thead>\n",
       "    <tr style=\"text-align: right;\">\n",
       "      <th></th>\n",
       "      <th>firm</th>\n",
       "      <th>date_review</th>\n",
       "      <th>overall_rating</th>\n",
       "      <th>headline</th>\n",
       "      <th>pros</th>\n",
       "      <th>cons</th>\n",
       "    </tr>\n",
       "  </thead>\n",
       "  <tbody>\n",
       "    <tr>\n",
       "      <th>0</th>\n",
       "      <td>Accenture</td>\n",
       "      <td>2008-06-11</td>\n",
       "      <td>3</td>\n",
       "      <td>big profits - poor people management</td>\n",
       "      <td>the name and access the C level</td>\n",
       "      <td>too much politics and not enough concentration...</td>\n",
       "    </tr>\n",
       "    <tr>\n",
       "      <th>1</th>\n",
       "      <td>Accenture</td>\n",
       "      <td>2008-06-12</td>\n",
       "      <td>3</td>\n",
       "      <td>A good employer but not without challenges - o...</td>\n",
       "      <td>Great network, collaborative, bright people, c...</td>\n",
       "      <td>lacklustre senior management spending insuffic...</td>\n",
       "    </tr>\n",
       "    <tr>\n",
       "      <th>2</th>\n",
       "      <td>Accenture</td>\n",
       "      <td>2008-06-19</td>\n",
       "      <td>4</td>\n",
       "      <td>the grass is actually quite green on this side...</td>\n",
       "      <td>Diversity of work, general calibre of people,</td>\n",
       "      <td>increasing level of bureaucracy, complexity of...</td>\n",
       "    </tr>\n",
       "    <tr>\n",
       "      <th>3</th>\n",
       "      <td>Accenture</td>\n",
       "      <td>2008-06-20</td>\n",
       "      <td>4</td>\n",
       "      <td>A good company to work for, but dont expect a ...</td>\n",
       "      <td>driven and focused company, which does give op...</td>\n",
       "      <td>Don't expect a life or significant amounts of ...</td>\n",
       "    </tr>\n",
       "    <tr>\n",
       "      <th>4</th>\n",
       "      <td>Accenture</td>\n",
       "      <td>2008-06-26</td>\n",
       "      <td>3</td>\n",
       "      <td>An okay place to be!</td>\n",
       "      <td>The variety of work and clients can be inspiri...</td>\n",
       "      <td>The long hours and the promotion (laddering) p...</td>\n",
       "    </tr>\n",
       "  </tbody>\n",
       "</table>\n",
       "</div>"
      ],
      "text/plain": [
       "        firm date_review  overall_rating  \\\n",
       "0  Accenture  2008-06-11               3   \n",
       "1  Accenture  2008-06-12               3   \n",
       "2  Accenture  2008-06-19               4   \n",
       "3  Accenture  2008-06-20               4   \n",
       "4  Accenture  2008-06-26               3   \n",
       "\n",
       "                                            headline  \\\n",
       "0               big profits - poor people management   \n",
       "1  A good employer but not without challenges - o...   \n",
       "2  the grass is actually quite green on this side...   \n",
       "3  A good company to work for, but dont expect a ...   \n",
       "4                               An okay place to be!   \n",
       "\n",
       "                                                pros  \\\n",
       "0                    the name and access the C level   \n",
       "1  Great network, collaborative, bright people, c...   \n",
       "2      Diversity of work, general calibre of people,   \n",
       "3  driven and focused company, which does give op...   \n",
       "4  The variety of work and clients can be inspiri...   \n",
       "\n",
       "                                                cons  \n",
       "0  too much politics and not enough concentration...  \n",
       "1  lacklustre senior management spending insuffic...  \n",
       "2  increasing level of bureaucracy, complexity of...  \n",
       "3  Don't expect a life or significant amounts of ...  \n",
       "4  The long hours and the promotion (laddering) p...  "
      ]
     },
     "execution_count": 8,
     "metadata": {},
     "output_type": "execute_result"
    }
   ],
   "source": [
    "data.head()"
   ]
  },
  {
   "cell_type": "code",
   "execution_count": 9,
   "id": "608ef776",
   "metadata": {},
   "outputs": [
    {
     "data": {
      "text/html": [
       "<div>\n",
       "<style scoped>\n",
       "    .dataframe tbody tr th:only-of-type {\n",
       "        vertical-align: middle;\n",
       "    }\n",
       "\n",
       "    .dataframe tbody tr th {\n",
       "        vertical-align: top;\n",
       "    }\n",
       "\n",
       "    .dataframe thead th {\n",
       "        text-align: right;\n",
       "    }\n",
       "</style>\n",
       "<table border=\"1\" class=\"dataframe\">\n",
       "  <thead>\n",
       "    <tr style=\"text-align: right;\">\n",
       "      <th></th>\n",
       "      <th>firm</th>\n",
       "      <th>date_review</th>\n",
       "      <th>overall_rating</th>\n",
       "      <th>headline</th>\n",
       "      <th>pros</th>\n",
       "      <th>cons</th>\n",
       "      <th>Comfort</th>\n",
       "    </tr>\n",
       "  </thead>\n",
       "  <tbody>\n",
       "    <tr>\n",
       "      <th>0</th>\n",
       "      <td>Accenture</td>\n",
       "      <td>2008-06-11</td>\n",
       "      <td>3</td>\n",
       "      <td>big profits - poor people management</td>\n",
       "      <td>the name and access the C level</td>\n",
       "      <td>too much politics and not enough concentration...</td>\n",
       "      <td>Neutral</td>\n",
       "    </tr>\n",
       "    <tr>\n",
       "      <th>1</th>\n",
       "      <td>Accenture</td>\n",
       "      <td>2008-06-12</td>\n",
       "      <td>3</td>\n",
       "      <td>A good employer but not without challenges - o...</td>\n",
       "      <td>Great network, collaborative, bright people, c...</td>\n",
       "      <td>lacklustre senior management spending insuffic...</td>\n",
       "      <td>Neutral</td>\n",
       "    </tr>\n",
       "    <tr>\n",
       "      <th>2</th>\n",
       "      <td>Accenture</td>\n",
       "      <td>2008-06-19</td>\n",
       "      <td>4</td>\n",
       "      <td>the grass is actually quite green on this side...</td>\n",
       "      <td>Diversity of work, general calibre of people,</td>\n",
       "      <td>increasing level of bureaucracy, complexity of...</td>\n",
       "      <td>Satisfied</td>\n",
       "    </tr>\n",
       "    <tr>\n",
       "      <th>3</th>\n",
       "      <td>Accenture</td>\n",
       "      <td>2008-06-20</td>\n",
       "      <td>4</td>\n",
       "      <td>A good company to work for, but dont expect a ...</td>\n",
       "      <td>driven and focused company, which does give op...</td>\n",
       "      <td>Don't expect a life or significant amounts of ...</td>\n",
       "      <td>Satisfied</td>\n",
       "    </tr>\n",
       "    <tr>\n",
       "      <th>4</th>\n",
       "      <td>Accenture</td>\n",
       "      <td>2008-06-26</td>\n",
       "      <td>3</td>\n",
       "      <td>An okay place to be!</td>\n",
       "      <td>The variety of work and clients can be inspiri...</td>\n",
       "      <td>The long hours and the promotion (laddering) p...</td>\n",
       "      <td>Neutral</td>\n",
       "    </tr>\n",
       "    <tr>\n",
       "      <th>...</th>\n",
       "      <td>...</td>\n",
       "      <td>...</td>\n",
       "      <td>...</td>\n",
       "      <td>...</td>\n",
       "      <td>...</td>\n",
       "      <td>...</td>\n",
       "      <td>...</td>\n",
       "    </tr>\n",
       "    <tr>\n",
       "      <th>1236</th>\n",
       "      <td>Morgan-Stanley</td>\n",
       "      <td>2008-06-11</td>\n",
       "      <td>4</td>\n",
       "      <td>fine</td>\n",
       "      <td>I am feeling prestige with M/s</td>\n",
       "      <td>industry stability is not guaranted</td>\n",
       "      <td>Satisfied</td>\n",
       "    </tr>\n",
       "    <tr>\n",
       "      <th>1237</th>\n",
       "      <td>Morgan-Stanley</td>\n",
       "      <td>2008-06-11</td>\n",
       "      <td>5</td>\n",
       "      <td>Best investment banking employer on Wall Street</td>\n",
       "      <td>In short, great pay, great colleagues, great i...</td>\n",
       "      <td>Unpredictable hours, long hours, sometimes sub...</td>\n",
       "      <td>Satisfied</td>\n",
       "    </tr>\n",
       "    <tr>\n",
       "      <th>1238</th>\n",
       "      <td>Morgan-Stanley</td>\n",
       "      <td>2008-06-11</td>\n",
       "      <td>3</td>\n",
       "      <td>Don't take it too seriously.  You'll never get...</td>\n",
       "      <td>It is a very prestigious place to work, but th...</td>\n",
       "      <td>It is an ok place to work, but the lifestyle i...</td>\n",
       "      <td>Neutral</td>\n",
       "    </tr>\n",
       "    <tr>\n",
       "      <th>1239</th>\n",
       "      <td>Morgan-Stanley</td>\n",
       "      <td>2008-06-11</td>\n",
       "      <td>5</td>\n",
       "      <td>MS is a place for bright people that want to w...</td>\n",
       "      <td>At Morgan Stanley, I am surrounded by the brig...</td>\n",
       "      <td>The largest downside of working at any investm...</td>\n",
       "      <td>Satisfied</td>\n",
       "    </tr>\n",
       "    <tr>\n",
       "      <th>1240</th>\n",
       "      <td>Morgan-Stanley</td>\n",
       "      <td>2008-06-11</td>\n",
       "      <td>4</td>\n",
       "      <td>Morgan Stanley IT</td>\n",
       "      <td>Working with smart people and good manager.  T...</td>\n",
       "      <td>Long working hours and the opportunity to get ...</td>\n",
       "      <td>Satisfied</td>\n",
       "    </tr>\n",
       "  </tbody>\n",
       "</table>\n",
       "<p>1241 rows × 7 columns</p>\n",
       "</div>"
      ],
      "text/plain": [
       "                firm date_review  overall_rating  \\\n",
       "0          Accenture  2008-06-11               3   \n",
       "1          Accenture  2008-06-12               3   \n",
       "2          Accenture  2008-06-19               4   \n",
       "3          Accenture  2008-06-20               4   \n",
       "4          Accenture  2008-06-26               3   \n",
       "...              ...         ...             ...   \n",
       "1236  Morgan-Stanley  2008-06-11               4   \n",
       "1237  Morgan-Stanley  2008-06-11               5   \n",
       "1238  Morgan-Stanley  2008-06-11               3   \n",
       "1239  Morgan-Stanley  2008-06-11               5   \n",
       "1240  Morgan-Stanley  2008-06-11               4   \n",
       "\n",
       "                                               headline  \\\n",
       "0                  big profits - poor people management   \n",
       "1     A good employer but not without challenges - o...   \n",
       "2     the grass is actually quite green on this side...   \n",
       "3     A good company to work for, but dont expect a ...   \n",
       "4                                  An okay place to be!   \n",
       "...                                                 ...   \n",
       "1236                                               fine   \n",
       "1237    Best investment banking employer on Wall Street   \n",
       "1238  Don't take it too seriously.  You'll never get...   \n",
       "1239  MS is a place for bright people that want to w...   \n",
       "1240                                  Morgan Stanley IT   \n",
       "\n",
       "                                                   pros  \\\n",
       "0                       the name and access the C level   \n",
       "1     Great network, collaborative, bright people, c...   \n",
       "2         Diversity of work, general calibre of people,   \n",
       "3     driven and focused company, which does give op...   \n",
       "4     The variety of work and clients can be inspiri...   \n",
       "...                                                 ...   \n",
       "1236                     I am feeling prestige with M/s   \n",
       "1237  In short, great pay, great colleagues, great i...   \n",
       "1238  It is a very prestigious place to work, but th...   \n",
       "1239  At Morgan Stanley, I am surrounded by the brig...   \n",
       "1240  Working with smart people and good manager.  T...   \n",
       "\n",
       "                                                   cons    Comfort  \n",
       "0     too much politics and not enough concentration...    Neutral  \n",
       "1     lacklustre senior management spending insuffic...    Neutral  \n",
       "2     increasing level of bureaucracy, complexity of...  Satisfied  \n",
       "3     Don't expect a life or significant amounts of ...  Satisfied  \n",
       "4     The long hours and the promotion (laddering) p...    Neutral  \n",
       "...                                                 ...        ...  \n",
       "1236                industry stability is not guaranted  Satisfied  \n",
       "1237  Unpredictable hours, long hours, sometimes sub...  Satisfied  \n",
       "1238  It is an ok place to work, but the lifestyle i...    Neutral  \n",
       "1239  The largest downside of working at any investm...  Satisfied  \n",
       "1240  Long working hours and the opportunity to get ...  Satisfied  \n",
       "\n",
       "[1241 rows x 7 columns]"
      ]
     },
     "execution_count": 9,
     "metadata": {},
     "output_type": "execute_result"
    }
   ],
   "source": [
    "comfort=[]\n",
    "for ele in data['overall_rating']:\n",
    "    if float(ele)>3:\n",
    "        comfort.append(\"Satisfied\")\n",
    "    elif float(ele)>1:\n",
    "        comfort.append('Neutral')\n",
    "    else:\n",
    "        comfort.append('Dissatisfied')\n",
    "data['Comfort']=comfort\n",
    "data"
   ]
  },
  {
   "cell_type": "code",
   "execution_count": 10,
   "id": "9ddde693",
   "metadata": {},
   "outputs": [
    {
     "data": {
      "text/plain": [
       "Satisfied       681\n",
       "Neutral         487\n",
       "Dissatisfied     73\n",
       "Name: Comfort, dtype: int64"
      ]
     },
     "execution_count": 10,
     "metadata": {},
     "output_type": "execute_result"
    }
   ],
   "source": [
    "train1=data['Comfort'].value_counts()\n",
    "train1"
   ]
  },
  {
   "cell_type": "markdown",
   "id": "06cf0295",
   "metadata": {
    "papermill": {
     "duration": 0.004139,
     "end_time": "2022-11-08T17:09:48.287365",
     "exception": false,
     "start_time": "2022-11-08T17:09:48.283226",
     "status": "completed"
    },
    "tags": []
   },
   "source": [
    "Missing entries are scarce in the dataset: "
   ]
  },
  {
   "cell_type": "code",
   "execution_count": 11,
   "id": "5c002905",
   "metadata": {
    "execution": {
     "iopub.execute_input": "2022-11-08T17:09:48.297405Z",
     "iopub.status.busy": "2022-11-08T17:09:48.296745Z",
     "iopub.status.idle": "2022-11-08T17:09:50.463073Z",
     "shell.execute_reply": "2022-11-08T17:09:50.461878Z"
    },
    "papermill": {
     "duration": 2.174612,
     "end_time": "2022-11-08T17:09:50.466011",
     "exception": false,
     "start_time": "2022-11-08T17:09:48.291399",
     "status": "completed"
    },
    "tags": []
   },
   "outputs": [
    {
     "data": {
      "image/png": "[encoded data removed]",
      "text/plain": [
       "<Figure size 1800x720 with 2 Axes>"
      ]
     },
     "metadata": {
      "needs_background": "light"
     },
     "output_type": "display_data"
    }
   ],
   "source": [
    "# Check Nans\n",
    "msno.matrix(data,color=(0.3,0.36,0.44));"
   ]
  },
  {
   "cell_type": "code",
   "execution_count": 12,
   "id": "91329d7c",
   "metadata": {
    "execution": {
     "iopub.execute_input": "2022-11-08T17:09:50.476968Z",
     "iopub.status.busy": "2022-11-08T17:09:50.476560Z",
     "iopub.status.idle": "2022-11-08T17:09:50.676198Z",
     "shell.execute_reply": "2022-11-08T17:09:50.674729Z"
    },
    "papermill": {
     "duration": 0.207433,
     "end_time": "2022-11-08T17:09:50.678241",
     "exception": false,
     "start_time": "2022-11-08T17:09:50.470808",
     "status": "completed"
    },
    "tags": []
   },
   "outputs": [
    {
     "data": {
      "text/plain": [
       "firm              0\n",
       "date_review       0\n",
       "overall_rating    0\n",
       "headline          2\n",
       "pros              0\n",
       "cons              0\n",
       "Comfort           0\n",
       "dtype: int64"
      ]
     },
     "execution_count": 12,
     "metadata": {},
     "output_type": "execute_result"
    }
   ],
   "source": [
    "data.isna().sum()"
   ]
  },
  {
   "cell_type": "markdown",
   "id": "c5d77bae",
   "metadata": {
    "papermill": {
     "duration": 0.004143,
     "end_time": "2022-11-08T17:09:50.686959",
     "exception": false,
     "start_time": "2022-11-08T17:09:50.682816",
     "status": "completed"
    },
    "tags": []
   },
   "source": [
    "Here we do a bit of cleaning. Some of the entries are duplicated, we remove those and replace NaN with their mean values for floats, or an NA value for strings."
   ]
  },
  {
   "cell_type": "code",
   "execution_count": 13,
   "id": "02786a66",
   "metadata": {
    "execution": {
     "iopub.execute_input": "2022-11-08T17:09:50.697343Z",
     "iopub.status.busy": "2022-11-08T17:09:50.696996Z",
     "iopub.status.idle": "2022-11-08T17:09:52.397830Z",
     "shell.execute_reply": "2022-11-08T17:09:52.396309Z"
    },
    "papermill": {
     "duration": 1.709213,
     "end_time": "2022-11-08T17:09:52.400539",
     "exception": false,
     "start_time": "2022-11-08T17:09:50.691326",
     "status": "completed"
    },
    "tags": []
   },
   "outputs": [
    {
     "name": "stdout",
     "output_type": "stream",
     "text": [
      "Drop Duplicated: 61\n"
     ]
    }
   ],
   "source": [
    "\n",
    "# Get column names for each types \n",
    "types_str = data.select_dtypes(include='object').columns\n",
    "types_int = data.select_dtypes(include=[int,float]).columns\n",
    "\n",
    "# Fill missing according to types\n",
    "data[types_str] = data[types_str].fillna('NA')\n",
    "data[types_int] = SimpleImputer(strategy='mean').fit_transform(data[types_int])\n",
    "\n",
    "# Drop Duplicates\n",
    "duplicate = data[['headline','pros','cons']].duplicated()\n",
    "data      = data.loc[duplicate==False]\n",
    "data = data.reset_index()\n",
    "print('Drop Duplicated:',duplicate.sum())"
   ]
  },
  {
   "cell_type": "code",
   "execution_count": 14,
   "id": "ea4527ca",
   "metadata": {
    "execution": {
     "iopub.execute_input": "2022-11-08T17:09:52.411697Z",
     "iopub.status.busy": "2022-11-08T17:09:52.411319Z",
     "iopub.status.idle": "2022-11-08T17:09:52.442768Z",
     "shell.execute_reply": "2022-11-08T17:09:52.441027Z"
    },
    "papermill": {
     "duration": 0.040082,
     "end_time": "2022-11-08T17:09:52.445440",
     "exception": false,
     "start_time": "2022-11-08T17:09:52.405358",
     "status": "completed"
    },
    "tags": []
   },
   "outputs": [
    {
     "name": "stdout",
     "output_type": "stream",
     "text": [
      "The data contains: 1180 samples of dimension 9\n"
     ]
    }
   ],
   "source": [
    "data['year'] = pd.DatetimeIndex(data['date_review']).year\n",
    "\n",
    "n_samples, n_columns = data.shape # extract dimensions of the Data\n",
    "n_data = pd.DataFrame(data.columns)[0] # the columns of our dataset\n",
    "\n",
    "print('The data contains: {} samples of dimension {}'.format(n_samples, n_columns))"
   ]
  },
  {
   "cell_type": "markdown",
   "id": "c9d455dd",
   "metadata": {
    "papermill": {
     "duration": 0.004404,
     "end_time": "2022-11-08T17:09:52.454806",
     "exception": false,
     "start_time": "2022-11-08T17:09:52.450402",
     "status": "completed"
    },
    "tags": []
   },
   "source": [
    "We can see a few entries from the dataset, namely the coments and ratings for several firms."
   ]
  },
  {
   "cell_type": "code",
   "execution_count": 15,
   "id": "9a90adef",
   "metadata": {
    "execution": {
     "iopub.execute_input": "2022-11-08T17:09:52.465839Z",
     "iopub.status.busy": "2022-11-08T17:09:52.465411Z",
     "iopub.status.idle": "2022-11-08T17:09:52.664287Z",
     "shell.execute_reply": "2022-11-08T17:09:52.662817Z"
    },
    "papermill": {
     "duration": 0.207366,
     "end_time": "2022-11-08T17:09:52.666925",
     "exception": false,
     "start_time": "2022-11-08T17:09:52.459559",
     "status": "completed"
    },
    "tags": []
   },
   "outputs": [
    {
     "name": "stdout",
     "output_type": "stream",
     "text": [
      "ACCENTURE \n",
      "Good company, good benefits but no work life balance. \n",
      "Headline:  Good company, good benefits but no work life balance. \n",
      "Pros: Good salary for the work you have to do - however its like they say you have to earn your money and they make you earn your money.  From Analysts to Senior Managers there are lots of perks available, the salary is very good compared to other companies.  Diversety is very well promoted and everyone from various backgrounds are considered equally. \n",
      "Cons: Long hours for consultant's, especially on lots of short term projects.  Be ready to stay away from family and home.  Its hard to get managers to agree to local projects, and sometimes even if you are the best choice for a project closer to home others may be selected at ramdon. \n",
      "Rating: 1.0 \n",
      "\n",
      "BARCLAYS \n",
      "Boring job, good pay. \n",
      "Headline:  Boring job, good pay. \n",
      "Pros: I joined not so long ago, and from my perspective the goods sides so far were: a very decent grad program, good sign on bonus and base salary. Currently this is one of few banks that are hiring, so hopefully we willl have a bit more employment stability in the nearest future. The bank was not as severely  hit as others, and some traditionally strong desks in IR, FX are making lots of money. The perks for those still employed as i know are in line with all I-banks, though the workload is somewhat less. \n",
      "Cons: Some desks encounter annoyingly large ammount of IT issues, and sometimes tools you use are whatever you had created yourself. But this is improving (so fastly that sometimes I wonder how did they work 2 or 3 yrs ago). Most of jobs are not intellectually challenging (as in all banks I guess). \n",
      "Rating: 2.0 \n",
      "\n",
      "BARCLAYS \n",
      "Great Place but they are always letting people go. \n",
      "Headline:  Great Place but they are always letting people go. \n",
      "Pros: Barclays Capital provides challenging and rewarding work.  Advancement or transfer to other positions is available.  The Technology is current reviewed.   Training is available but, with the work load, it's sometime difficult to take advantage of.  Barclays Capital is careful in managing risks, so it does not pursue bleeding edge technology but does stay with the industry. \n",
      "Cons: Barclays Capital is always letting people go - even when the economy was good. If you get caught in the cross-hairs, you're gone.  Also, being a global firm, it's common place to be working unusual hours - any time in the 24 hour cycle. \n",
      "Rating: 3.0 \n",
      "\n",
      "DEUTSCHE-BANK \n",
      "Dont know \n",
      "Headline:  Dont know \n",
      "Pros: Stable Company that does not take that many risks.  You can be assured that there is alot of job stability compared to other large banks during these times. \n",
      "Cons: Just as with any other bank...fixed income is in the garbage everywhere in the world.  You really can't do anything about that right now.  Promotions and raises only happen once during the year.  You get stuck being promoted but not really until they come around and do the adjustment. \n",
      "Rating: 4.0 \n",
      "\n",
      "APPLE \n",
      "If you are looking to work at a great place with great people, work at Apple. \n",
      "Headline:  If you are looking to work at a great place with great people, work at Apple. \n",
      "Pros: The people, the products, and the company. Almost every week when I go into work I meet new people who amaze me about what they can do. The products speak for themselves. And the discounts also help out a college student who is pressed for money. Speaking of money, the pay is great, starting at 10.50 in retail, with room to get raises almost every 4 months. Working for the best company in the electronic industry that cares about its people, its roles, and its products so much that if they dont make you say \"wow, thats amazing\", they dont do it. Apple is an amazing company that breaks down barriers everyday. \n",
      "Cons: People wanting to know when the new iphone/ cpu will be out/ every  1 out of every 100 customers will be bitchy, but other than that, enriching peoples lives everyday and helping people with the tools that they need to accomplish amazing feats always feels good. INFORMATION. Knowing all of the stats of everything, how much memory, how much ram, whats applecare? Whats 1-to-1? needing to know the ins and outs of everything is tough, but its worth it. And learning all of the job titles and the roles of the store are kind of hard, but when you know the way that it works better, it helps you do your job much more efficiently. \n",
      "Rating: 5.0 \n",
      "\n"
     ]
    }
   ],
   "source": [
    "# Show an example for each grade\n",
    "for i in range(1,6):\n",
    "    tmp = data.query('overall_rating==@i').sample(1)\n",
    "    print(colored(tmp.firm.values[0].upper(),'blue'),'\\n'+tmp.headline.values[0],'\\nHeadline: ',tmp.headline.values[0],colored('\\nPros:','green'),tmp.pros.values[0],colored('\\nCons:','red'),tmp.cons.values[0],'\\nRating:',colored(tmp.overall_rating.values[0],'red'),'\\n')"
   ]
  },
  {
   "cell_type": "markdown",
   "id": "7c265073",
   "metadata": {
    "papermill": {
     "duration": 0.004557,
     "end_time": "2022-11-08T17:09:52.676548",
     "exception": false,
     "start_time": "2022-11-08T17:09:52.671991",
     "status": "completed"
    },
    "tags": []
   },
   "source": [
    "Some non-semantic features can be informative of the ratings. For instance the number of words in headline, pros and cons seems to be a good indicator of the rating. Longer comments seem to signal a better grade. This seems reasonable since more dedicated reviewers will probably take more time to acknowledge good employment experience. We illustrate this point in the next graph:"
   ]
  },
  {
   "cell_type": "code",
   "execution_count": 16,
   "id": "d434dd04",
   "metadata": {
    "execution": {
     "iopub.execute_input": "2022-11-08T17:09:52.687858Z",
     "iopub.status.busy": "2022-11-08T17:09:52.687433Z",
     "iopub.status.idle": "2022-11-08T17:15:11.085177Z",
     "shell.execute_reply": "2022-11-08T17:15:11.083888Z"
    },
    "papermill": {
     "duration": 318.410329,
     "end_time": "2022-11-08T17:15:11.091747",
     "exception": false,
     "start_time": "2022-11-08T17:09:52.681418",
     "status": "completed"
    },
    "tags": []
   },
   "outputs": [
    {
     "data": {
      "image/png": "[encoded data removed]",
      "text/plain": [
       "<Figure size 1440x720 with 3 Axes>"
      ]
     },
     "metadata": {
      "needs_background": "light"
     },
     "output_type": "display_data"
    }
   ],
   "source": [
    "# Word Size Distribution depending on length of headlines, pros and cons\n",
    "# The length of pros and cons is an important factor to detect polarity in opinions\n",
    "data['head_len'] = data['headline'].apply(lambda x:len(nltk.word_tokenize(x)))\n",
    "data['pros_len'] = data['pros'].apply(lambda x:len(nltk.word_tokenize(x)))\n",
    "data['cons_len'] = data['pros'].apply(lambda x:len(nltk.word_tokenize(x)))\n",
    "\n",
    "bins_h = list(range(0,20,5))+[1000]\n",
    "bins   = list(range(0,60,10))+[1000]\n",
    "data['head_len'] = pd.cut(data['head_len'], bins = bins_h, labels=[str(i)+'-'+str(i+10) for i in bins_h[:-2]]+[str(bins_h[-2])+'+'])\n",
    "data['pros_len'] = pd.cut(data['pros_len'], bins = bins, labels=[str(i)+'-'+str(i+10) for i in bins[:-2]]+[str(bins[-2])+'+'])\n",
    "data['cons_len'] = pd.cut(data['cons_len'], bins = bins, labels=[str(i)+'-'+str(i+10) for i in bins[:-2]]+[str(bins[-2])+'+'])\n",
    "\n",
    "f,ax = plt.subplots(3,1,figsize=(20,10))\n",
    "ax[0] = sns.histplot(data=data,x='head_len',hue='overall_rating',multiple=\"dodge\",ax=ax[0])\n",
    "ax[0].set_xlabel('Headline Length (words)')\n",
    "ax[1] = sns.histplot(data=data,x='pros_len',hue='overall_rating',multiple=\"dodge\",ax=ax[1], legend=False)\n",
    "ax[1].set_xlabel('Pros Length (words)')\n",
    "ax[2] = sns.histplot(data=data,x='cons_len',hue='overall_rating',multiple=\"dodge\",ax=ax[2], legend=False)\n",
    "ax[2].set_xlabel('Cons Length (words)')\n",
    "plt.show()"
   ]
  },
  {
   "cell_type": "markdown",
   "id": "b23e5fbe",
   "metadata": {
    "papermill": {
     "duration": 0.004914,
     "end_time": "2022-11-08T17:15:11.101804",
     "exception": false,
     "start_time": "2022-11-08T17:15:11.096890",
     "status": "completed"
    },
    "tags": []
   },
   "source": [
    "Ratings are unevenly distributed across the sample."
   ]
  },
  {
   "cell_type": "code",
   "execution_count": 17,
   "id": "a3394bd4",
   "metadata": {
    "execution": {
     "iopub.execute_input": "2022-11-08T17:15:11.115002Z",
     "iopub.status.busy": "2022-11-08T17:15:11.113620Z",
     "iopub.status.idle": "2022-11-08T17:15:11.297151Z",
     "shell.execute_reply": "2022-11-08T17:15:11.296016Z"
    },
    "papermill": {
     "duration": 0.192571,
     "end_time": "2022-11-08T17:15:11.299614",
     "exception": false,
     "start_time": "2022-11-08T17:15:11.107043",
     "status": "completed"
    },
    "tags": []
   },
   "outputs": [
    {
     "data": {
      "text/plain": [
       "<AxesSubplot:>"
      ]
     },
     "execution_count": 17,
     "metadata": {},
     "output_type": "execute_result"
    },
    {
     "data": {
      "image/png": "[encoded data removed]",
      "text/plain": [
       "<Figure size 432x288 with 1 Axes>"
      ]
     },
     "metadata": {
      "needs_background": "light"
     },
     "output_type": "display_data"
    }
   ],
   "source": [
    "fig,ax=plt.subplots(1,1,figsize=(6,4))\n",
    "plt.suptitle(\"Total of reviews split by rating for the overall_rating label\", fontsize=14)\n",
    "data['overall_rating'].value_counts().sort_index(ascending=True).plot.bar(color=\"green\")"
   ]
  },
  {
   "cell_type": "markdown",
   "id": "7af3e251",
   "metadata": {
    "papermill": {
     "duration": 0.005386,
     "end_time": "2022-11-08T17:15:11.311041",
     "exception": false,
     "start_time": "2022-11-08T17:15:11.305655",
     "status": "completed"
    },
    "tags": []
   },
   "source": [
    "We can see that the number of review is also very heterogeneous across firms."
   ]
  },
  {
   "cell_type": "code",
   "execution_count": 18,
   "id": "4a873a94",
   "metadata": {
    "execution": {
     "iopub.execute_input": "2022-11-08T17:15:11.325112Z",
     "iopub.status.busy": "2022-11-08T17:15:11.323898Z",
     "iopub.status.idle": "2022-11-08T17:15:11.791047Z",
     "shell.execute_reply": "2022-11-08T17:15:11.790255Z"
    },
    "papermill": {
     "duration": 0.475961,
     "end_time": "2022-11-08T17:15:11.792900",
     "exception": false,
     "start_time": "2022-11-08T17:15:11.316939",
     "status": "completed"
    },
    "tags": []
   },
   "outputs": [
    {
     "data": {
      "image/png": "[encoded data removed]",
      "text/plain": [
       "<Figure size 720x360 with 1 Axes>"
      ]
     },
     "metadata": {},
     "output_type": "display_data"
    }
   ],
   "source": [
    "plt.style.use('fivethirtyeight')\n",
    "plt.figure(1 , figsize = (10 , 5))\n",
    "sns.countplot(y = 'firm' , data = data , palette = 'rocket' , \n",
    "              order = data['firm'].value_counts().index[:15])\n",
    "plt.show()"
   ]
  },
  {
   "cell_type": "code",
   "execution_count": 19,
   "id": "673b66b2",
   "metadata": {},
   "outputs": [
    {
     "name": "stdout",
     "output_type": "stream",
     "text": [
      "<class 'pandas.core.frame.DataFrame'>\n",
      "RangeIndex: 1180 entries, 0 to 1179\n",
      "Data columns (total 12 columns):\n",
      " #   Column          Non-Null Count  Dtype         \n",
      "---  ------          --------------  -----         \n",
      " 0   index           1180 non-null   int64         \n",
      " 1   firm            1180 non-null   object        \n",
      " 2   date_review     1180 non-null   datetime64[ns]\n",
      " 3   overall_rating  1180 non-null   float64       \n",
      " 4   headline        1180 non-null   object        \n",
      " 5   pros            1180 non-null   object        \n",
      " 6   cons            1180 non-null   object        \n",
      " 7   Comfort         1180 non-null   object        \n",
      " 8   year            1180 non-null   int64         \n",
      " 9   head_len        1180 non-null   category      \n",
      " 10  pros_len        1180 non-null   category      \n",
      " 11  cons_len        1180 non-null   category      \n",
      "dtypes: category(3), datetime64[ns](1), float64(1), int64(2), object(5)\n",
      "memory usage: 87.2+ KB\n"
     ]
    }
   ],
   "source": [
    "data.info()"
   ]
  },
  {
   "cell_type": "markdown",
   "id": "e8fcf03e",
   "metadata": {},
   "source": [
    "# Sentimental Analysis"
   ]
  },
  {
   "cell_type": "code",
   "execution_count": 20,
   "id": "4de76acd",
   "metadata": {},
   "outputs": [],
   "source": [
    "from wordcloud import WordCloud\n",
    "\n",
    "def wc(df,bgcolor,title):\n",
    "    plt.figure(figsize = (50,50))\n",
    "    wc = WordCloud(background_color = bgcolor, max_words = 2000, random_state=42, max_font_size = 50)\n",
    "    wc.generate(' '.join(data))\n",
    "    plt.imshow(wc)\n",
    "    plt.axis('off')\n",
    "    return wc"
   ]
  },
  {
   "cell_type": "code",
   "execution_count": 21,
   "id": "f9695478",
   "metadata": {},
   "outputs": [],
   "source": [
    "df = pd.read_csv('Senti.csv')"
   ]
  },
  {
   "cell_type": "code",
   "execution_count": null,
   "id": "11528126",
   "metadata": {},
   "outputs": [],
   "source": []
  },
  {
   "cell_type": "markdown",
   "id": "1167cdd2",
   "metadata": {},
   "source": [
    "Sentimental Polarity"
   ]
  },
  {
   "cell_type": "code",
   "execution_count": 22,
   "id": "068b62d5",
   "metadata": {},
   "outputs": [],
   "source": [
    "polarity=[] # list which will contain the polarity of the comments\n",
    "subjectivity=[] # list which will contain the subjectivity of the comments\n",
    "for i in data['pros'].values:\n",
    "    try:\n",
    "        analysis =TextBlob(i)\n",
    "        polarity.append(analysis.sentiment.polarity)\n",
    "        subjectivity.append(analysis.sentiment.subjectivity)\n",
    "        \n",
    "    except:\n",
    "        polarity.append(0)\n",
    "        subjectivity.append(0)"
   ]
  },
  {
   "cell_type": "code",
   "execution_count": 23,
   "id": "9caf40f4",
   "metadata": {},
   "outputs": [],
   "source": [
    "polarity = []\n",
    "subjectivity = []\n",
    "for i in data['pros'].values:\n",
    "    analysis = TextBlob(i)\n",
    "    polarity.append(analysis.sentiment.polarity)\n",
    "    subjectivity.append(analysis.sentiment.subjectivity)"
   ]
  },
  {
   "cell_type": "markdown",
   "id": "e8abb9e4",
   "metadata": {},
   "source": [
    "Sentiment Polarity and Subjectivity"
   ]
  },
  {
   "cell_type": "code",
   "execution_count": 24,
   "id": "9bde7f7a",
   "metadata": {},
   "outputs": [],
   "source": [
    "data['polarity']=polarity\n",
    "data['subjectivity']=subjectivity"
   ]
  },
  {
   "cell_type": "code",
   "execution_count": 25,
   "id": "86547458",
   "metadata": {},
   "outputs": [
    {
     "data": {
      "text/html": [
       "<div>\n",
       "<style scoped>\n",
       "    .dataframe tbody tr th:only-of-type {\n",
       "        vertical-align: middle;\n",
       "    }\n",
       "\n",
       "    .dataframe tbody tr th {\n",
       "        vertical-align: top;\n",
       "    }\n",
       "\n",
       "    .dataframe thead th {\n",
       "        text-align: right;\n",
       "    }\n",
       "</style>\n",
       "<table border=\"1\" class=\"dataframe\">\n",
       "  <thead>\n",
       "    <tr style=\"text-align: right;\">\n",
       "      <th></th>\n",
       "      <th>index</th>\n",
       "      <th>firm</th>\n",
       "      <th>date_review</th>\n",
       "      <th>overall_rating</th>\n",
       "      <th>headline</th>\n",
       "      <th>pros</th>\n",
       "      <th>cons</th>\n",
       "      <th>Comfort</th>\n",
       "      <th>year</th>\n",
       "      <th>head_len</th>\n",
       "      <th>pros_len</th>\n",
       "      <th>cons_len</th>\n",
       "      <th>polarity</th>\n",
       "      <th>subjectivity</th>\n",
       "    </tr>\n",
       "  </thead>\n",
       "  <tbody>\n",
       "    <tr>\n",
       "      <th>0</th>\n",
       "      <td>0</td>\n",
       "      <td>Accenture</td>\n",
       "      <td>2008-06-11</td>\n",
       "      <td>3.0</td>\n",
       "      <td>big profits - poor people management</td>\n",
       "      <td>the name and access the C level</td>\n",
       "      <td>too much politics and not enough concentration...</td>\n",
       "      <td>Neutral</td>\n",
       "      <td>2008</td>\n",
       "      <td>5-15</td>\n",
       "      <td>0-10</td>\n",
       "      <td>0-10</td>\n",
       "      <td>0.000000</td>\n",
       "      <td>0.000000</td>\n",
       "    </tr>\n",
       "    <tr>\n",
       "      <th>1</th>\n",
       "      <td>1</td>\n",
       "      <td>Accenture</td>\n",
       "      <td>2008-06-12</td>\n",
       "      <td>3.0</td>\n",
       "      <td>A good employer but not without challenges - o...</td>\n",
       "      <td>Great network, collaborative, bright people, c...</td>\n",
       "      <td>lacklustre senior management spending insuffic...</td>\n",
       "      <td>Neutral</td>\n",
       "      <td>2008</td>\n",
       "      <td>15+</td>\n",
       "      <td>20-30</td>\n",
       "      <td>20-30</td>\n",
       "      <td>0.391667</td>\n",
       "      <td>0.570833</td>\n",
       "    </tr>\n",
       "    <tr>\n",
       "      <th>2</th>\n",
       "      <td>2</td>\n",
       "      <td>Accenture</td>\n",
       "      <td>2008-06-19</td>\n",
       "      <td>4.0</td>\n",
       "      <td>the grass is actually quite green on this side...</td>\n",
       "      <td>Diversity of work, general calibre of people,</td>\n",
       "      <td>increasing level of bureaucracy, complexity of...</td>\n",
       "      <td>Satisfied</td>\n",
       "      <td>2008</td>\n",
       "      <td>10-20</td>\n",
       "      <td>0-10</td>\n",
       "      <td>0-10</td>\n",
       "      <td>0.050000</td>\n",
       "      <td>0.500000</td>\n",
       "    </tr>\n",
       "    <tr>\n",
       "      <th>3</th>\n",
       "      <td>3</td>\n",
       "      <td>Accenture</td>\n",
       "      <td>2008-06-20</td>\n",
       "      <td>4.0</td>\n",
       "      <td>A good company to work for, but dont expect a ...</td>\n",
       "      <td>driven and focused company, which does give op...</td>\n",
       "      <td>Don't expect a life or significant amounts of ...</td>\n",
       "      <td>Satisfied</td>\n",
       "      <td>2008</td>\n",
       "      <td>10-20</td>\n",
       "      <td>30-40</td>\n",
       "      <td>30-40</td>\n",
       "      <td>0.125000</td>\n",
       "      <td>0.291667</td>\n",
       "    </tr>\n",
       "    <tr>\n",
       "      <th>4</th>\n",
       "      <td>4</td>\n",
       "      <td>Accenture</td>\n",
       "      <td>2008-06-26</td>\n",
       "      <td>3.0</td>\n",
       "      <td>An okay place to be!</td>\n",
       "      <td>The variety of work and clients can be inspiri...</td>\n",
       "      <td>The long hours and the promotion (laddering) p...</td>\n",
       "      <td>Neutral</td>\n",
       "      <td>2008</td>\n",
       "      <td>5-15</td>\n",
       "      <td>20-30</td>\n",
       "      <td>20-30</td>\n",
       "      <td>0.500000</td>\n",
       "      <td>1.000000</td>\n",
       "    </tr>\n",
       "    <tr>\n",
       "      <th>...</th>\n",
       "      <td>...</td>\n",
       "      <td>...</td>\n",
       "      <td>...</td>\n",
       "      <td>...</td>\n",
       "      <td>...</td>\n",
       "      <td>...</td>\n",
       "      <td>...</td>\n",
       "      <td>...</td>\n",
       "      <td>...</td>\n",
       "      <td>...</td>\n",
       "      <td>...</td>\n",
       "      <td>...</td>\n",
       "      <td>...</td>\n",
       "      <td>...</td>\n",
       "    </tr>\n",
       "    <tr>\n",
       "      <th>1175</th>\n",
       "      <td>1216</td>\n",
       "      <td>Morgan-Stanley</td>\n",
       "      <td>2008-06-11</td>\n",
       "      <td>3.0</td>\n",
       "      <td>Need to be dedicated, but great potential here...</td>\n",
       "      <td>Good money, great place be if you are very car...</td>\n",
       "      <td>Work-life balance is hopeless, this is no diff...</td>\n",
       "      <td>Neutral</td>\n",
       "      <td>2008</td>\n",
       "      <td>15+</td>\n",
       "      <td>40-50</td>\n",
       "      <td>40-50</td>\n",
       "      <td>0.554762</td>\n",
       "      <td>0.590476</td>\n",
       "    </tr>\n",
       "    <tr>\n",
       "      <th>1176</th>\n",
       "      <td>1217</td>\n",
       "      <td>Morgan-Stanley</td>\n",
       "      <td>2008-06-12</td>\n",
       "      <td>4.0</td>\n",
       "      <td>Solid opportunities for the right individuals.</td>\n",
       "      <td>Morgan Stanley has still maintained a solid re...</td>\n",
       "      <td>Lack of technology resources for the support u...</td>\n",
       "      <td>Satisfied</td>\n",
       "      <td>2008</td>\n",
       "      <td>5-15</td>\n",
       "      <td>50+</td>\n",
       "      <td>50+</td>\n",
       "      <td>0.097889</td>\n",
       "      <td>0.272444</td>\n",
       "    </tr>\n",
       "    <tr>\n",
       "      <th>1177</th>\n",
       "      <td>1218</td>\n",
       "      <td>Morgan-Stanley</td>\n",
       "      <td>2008-06-12</td>\n",
       "      <td>2.0</td>\n",
       "      <td>Morgan Stanley Advisors say Firm must put Clie...</td>\n",
       "      <td>Excellent reputation.  The company is a \"house...</td>\n",
       "      <td>Rewards obscene for those at the very top of t...</td>\n",
       "      <td>Neutral</td>\n",
       "      <td>2008</td>\n",
       "      <td>10-20</td>\n",
       "      <td>10-20</td>\n",
       "      <td>10-20</td>\n",
       "      <td>1.000000</td>\n",
       "      <td>1.000000</td>\n",
       "    </tr>\n",
       "    <tr>\n",
       "      <th>1178</th>\n",
       "      <td>1219</td>\n",
       "      <td>Morgan-Stanley</td>\n",
       "      <td>2008-06-12</td>\n",
       "      <td>1.0</td>\n",
       "      <td>Go get a job at goldman instead.</td>\n",
       "      <td>Decent benefits, white shoe reputation</td>\n",
       "      <td>Poor pay, low bonuses, red tape, 'too many chi...</td>\n",
       "      <td>Dissatisfied</td>\n",
       "      <td>2008</td>\n",
       "      <td>5-15</td>\n",
       "      <td>0-10</td>\n",
       "      <td>0-10</td>\n",
       "      <td>0.083333</td>\n",
       "      <td>0.333333</td>\n",
       "    </tr>\n",
       "    <tr>\n",
       "      <th>1179</th>\n",
       "      <td>1220</td>\n",
       "      <td>Morgan-Stanley</td>\n",
       "      <td>2008-06-12</td>\n",
       "      <td>4.0</td>\n",
       "      <td>Good Place to work - room for improvement</td>\n",
       "      <td>Morgan Stanley is a Great company to work for ...</td>\n",
       "      <td>No synergy bertween different business units. ...</td>\n",
       "      <td>Satisfied</td>\n",
       "      <td>2008</td>\n",
       "      <td>5-15</td>\n",
       "      <td>50+</td>\n",
       "      <td>50+</td>\n",
       "      <td>0.369093</td>\n",
       "      <td>0.615614</td>\n",
       "    </tr>\n",
       "  </tbody>\n",
       "</table>\n",
       "<p>1180 rows × 14 columns</p>\n",
       "</div>"
      ],
      "text/plain": [
       "      index            firm date_review  overall_rating  \\\n",
       "0         0       Accenture  2008-06-11             3.0   \n",
       "1         1       Accenture  2008-06-12             3.0   \n",
       "2         2       Accenture  2008-06-19             4.0   \n",
       "3         3       Accenture  2008-06-20             4.0   \n",
       "4         4       Accenture  2008-06-26             3.0   \n",
       "...     ...             ...         ...             ...   \n",
       "1175   1216  Morgan-Stanley  2008-06-11             3.0   \n",
       "1176   1217  Morgan-Stanley  2008-06-12             4.0   \n",
       "1177   1218  Morgan-Stanley  2008-06-12             2.0   \n",
       "1178   1219  Morgan-Stanley  2008-06-12             1.0   \n",
       "1179   1220  Morgan-Stanley  2008-06-12             4.0   \n",
       "\n",
       "                                               headline  \\\n",
       "0                  big profits - poor people management   \n",
       "1     A good employer but not without challenges - o...   \n",
       "2     the grass is actually quite green on this side...   \n",
       "3     A good company to work for, but dont expect a ...   \n",
       "4                                  An okay place to be!   \n",
       "...                                                 ...   \n",
       "1175  Need to be dedicated, but great potential here...   \n",
       "1176     Solid opportunities for the right individuals.   \n",
       "1177  Morgan Stanley Advisors say Firm must put Clie...   \n",
       "1178                   Go get a job at goldman instead.   \n",
       "1179          Good Place to work - room for improvement   \n",
       "\n",
       "                                                   pros  \\\n",
       "0                       the name and access the C level   \n",
       "1     Great network, collaborative, bright people, c...   \n",
       "2         Diversity of work, general calibre of people,   \n",
       "3     driven and focused company, which does give op...   \n",
       "4     The variety of work and clients can be inspiri...   \n",
       "...                                                 ...   \n",
       "1175  Good money, great place be if you are very car...   \n",
       "1176  Morgan Stanley has still maintained a solid re...   \n",
       "1177  Excellent reputation.  The company is a \"house...   \n",
       "1178             Decent benefits, white shoe reputation   \n",
       "1179  Morgan Stanley is a Great company to work for ...   \n",
       "\n",
       "                                                   cons       Comfort  year  \\\n",
       "0     too much politics and not enough concentration...       Neutral  2008   \n",
       "1     lacklustre senior management spending insuffic...       Neutral  2008   \n",
       "2     increasing level of bureaucracy, complexity of...     Satisfied  2008   \n",
       "3     Don't expect a life or significant amounts of ...     Satisfied  2008   \n",
       "4     The long hours and the promotion (laddering) p...       Neutral  2008   \n",
       "...                                                 ...           ...   ...   \n",
       "1175  Work-life balance is hopeless, this is no diff...       Neutral  2008   \n",
       "1176  Lack of technology resources for the support u...     Satisfied  2008   \n",
       "1177  Rewards obscene for those at the very top of t...       Neutral  2008   \n",
       "1178  Poor pay, low bonuses, red tape, 'too many chi...  Dissatisfied  2008   \n",
       "1179  No synergy bertween different business units. ...     Satisfied  2008   \n",
       "\n",
       "     head_len pros_len cons_len  polarity  subjectivity  \n",
       "0        5-15     0-10     0-10  0.000000      0.000000  \n",
       "1         15+    20-30    20-30  0.391667      0.570833  \n",
       "2       10-20     0-10     0-10  0.050000      0.500000  \n",
       "3       10-20    30-40    30-40  0.125000      0.291667  \n",
       "4        5-15    20-30    20-30  0.500000      1.000000  \n",
       "...       ...      ...      ...       ...           ...  \n",
       "1175      15+    40-50    40-50  0.554762      0.590476  \n",
       "1176     5-15      50+      50+  0.097889      0.272444  \n",
       "1177    10-20    10-20    10-20  1.000000      1.000000  \n",
       "1178     5-15     0-10     0-10  0.083333      0.333333  \n",
       "1179     5-15      50+      50+  0.369093      0.615614  \n",
       "\n",
       "[1180 rows x 14 columns]"
      ]
     },
     "execution_count": 25,
     "metadata": {},
     "output_type": "execute_result"
    }
   ],
   "source": [
    "data"
   ]
  },
  {
   "cell_type": "code",
   "execution_count": null,
   "id": "c8ec003e",
   "metadata": {},
   "outputs": [],
   "source": []
  },
  {
   "cell_type": "markdown",
   "id": "606a2641",
   "metadata": {},
   "source": [
    "Displaying Polarity and Subjectivity of the headline and pros reviews"
   ]
  },
  {
   "cell_type": "code",
   "execution_count": 27,
   "id": "ab17fa71",
   "metadata": {},
   "outputs": [
    {
     "data": {
      "text/html": [
       "<div>\n",
       "<style scoped>\n",
       "    .dataframe tbody tr th:only-of-type {\n",
       "        vertical-align: middle;\n",
       "    }\n",
       "\n",
       "    .dataframe tbody tr th {\n",
       "        vertical-align: top;\n",
       "    }\n",
       "\n",
       "    .dataframe thead th {\n",
       "        text-align: right;\n",
       "    }\n",
       "</style>\n",
       "<table border=\"1\" class=\"dataframe\">\n",
       "  <thead>\n",
       "    <tr style=\"text-align: right;\">\n",
       "      <th></th>\n",
       "      <th>firm</th>\n",
       "      <th>headline</th>\n",
       "      <th>pros</th>\n",
       "      <th>polarity</th>\n",
       "      <th>subjectivity</th>\n",
       "    </tr>\n",
       "  </thead>\n",
       "  <tbody>\n",
       "    <tr>\n",
       "      <th>0</th>\n",
       "      <td>Accenture</td>\n",
       "      <td>big profits - poor people management</td>\n",
       "      <td>the name and access the C level</td>\n",
       "      <td>0.000000</td>\n",
       "      <td>0.000000</td>\n",
       "    </tr>\n",
       "    <tr>\n",
       "      <th>1</th>\n",
       "      <td>Accenture</td>\n",
       "      <td>A good employer but not without challenges - o...</td>\n",
       "      <td>Great network, collaborative, bright people, c...</td>\n",
       "      <td>0.391667</td>\n",
       "      <td>0.570833</td>\n",
       "    </tr>\n",
       "    <tr>\n",
       "      <th>2</th>\n",
       "      <td>Accenture</td>\n",
       "      <td>the grass is actually quite green on this side...</td>\n",
       "      <td>Diversity of work, general calibre of people,</td>\n",
       "      <td>0.050000</td>\n",
       "      <td>0.500000</td>\n",
       "    </tr>\n",
       "    <tr>\n",
       "      <th>3</th>\n",
       "      <td>Accenture</td>\n",
       "      <td>A good company to work for, but dont expect a ...</td>\n",
       "      <td>driven and focused company, which does give op...</td>\n",
       "      <td>0.125000</td>\n",
       "      <td>0.291667</td>\n",
       "    </tr>\n",
       "    <tr>\n",
       "      <th>4</th>\n",
       "      <td>Accenture</td>\n",
       "      <td>An okay place to be!</td>\n",
       "      <td>The variety of work and clients can be inspiri...</td>\n",
       "      <td>0.500000</td>\n",
       "      <td>1.000000</td>\n",
       "    </tr>\n",
       "    <tr>\n",
       "      <th>5</th>\n",
       "      <td>Accenture</td>\n",
       "      <td>A great place to learn and grow... just be sur...</td>\n",
       "      <td>The people you work with;\\r\\nThe clients you w...</td>\n",
       "      <td>0.000000</td>\n",
       "      <td>0.000000</td>\n",
       "    </tr>\n",
       "    <tr>\n",
       "      <th>6</th>\n",
       "      <td>Accenture</td>\n",
       "      <td>Better than most other places to work</td>\n",
       "      <td>Working with talented people on big complicate...</td>\n",
       "      <td>0.066667</td>\n",
       "      <td>0.666667</td>\n",
       "    </tr>\n",
       "    <tr>\n",
       "      <th>7</th>\n",
       "      <td>Accenture</td>\n",
       "      <td>A place to spend a few years but not a long te...</td>\n",
       "      <td>Good for CV.  Some of the people were great to...</td>\n",
       "      <td>0.650000</td>\n",
       "      <td>0.737500</td>\n",
       "    </tr>\n",
       "    <tr>\n",
       "      <th>8</th>\n",
       "      <td>Accenture</td>\n",
       "      <td>Great company if you work hard and don't have ...</td>\n",
       "      <td>There is s huge variety of work available, and...</td>\n",
       "      <td>0.172513</td>\n",
       "      <td>0.638492</td>\n",
       "    </tr>\n",
       "    <tr>\n",
       "      <th>9</th>\n",
       "      <td>Accenture</td>\n",
       "      <td>Great place if you are ambitious and like work...</td>\n",
       "      <td>Accenture is a great place to learn about deli...</td>\n",
       "      <td>0.219625</td>\n",
       "      <td>0.479004</td>\n",
       "    </tr>\n",
       "  </tbody>\n",
       "</table>\n",
       "</div>"
      ],
      "text/plain": [
       "        firm                                           headline  \\\n",
       "0  Accenture               big profits - poor people management   \n",
       "1  Accenture  A good employer but not without challenges - o...   \n",
       "2  Accenture  the grass is actually quite green on this side...   \n",
       "3  Accenture  A good company to work for, but dont expect a ...   \n",
       "4  Accenture                               An okay place to be!   \n",
       "5  Accenture  A great place to learn and grow... just be sur...   \n",
       "6  Accenture              Better than most other places to work   \n",
       "7  Accenture  A place to spend a few years but not a long te...   \n",
       "8  Accenture  Great company if you work hard and don't have ...   \n",
       "9  Accenture  Great place if you are ambitious and like work...   \n",
       "\n",
       "                                                pros  polarity  subjectivity  \n",
       "0                    the name and access the C level  0.000000      0.000000  \n",
       "1  Great network, collaborative, bright people, c...  0.391667      0.570833  \n",
       "2      Diversity of work, general calibre of people,  0.050000      0.500000  \n",
       "3  driven and focused company, which does give op...  0.125000      0.291667  \n",
       "4  The variety of work and clients can be inspiri...  0.500000      1.000000  \n",
       "5  The people you work with;\\r\\nThe clients you w...  0.000000      0.000000  \n",
       "6  Working with talented people on big complicate...  0.066667      0.666667  \n",
       "7  Good for CV.  Some of the people were great to...  0.650000      0.737500  \n",
       "8  There is s huge variety of work available, and...  0.172513      0.638492  \n",
       "9  Accenture is a great place to learn about deli...  0.219625      0.479004  "
      ]
     },
     "execution_count": 27,
     "metadata": {},
     "output_type": "execute_result"
    }
   ],
   "source": [
    "data[['firm','headline','pros','polarity','subjectivity']].head(10)"
   ]
  },
  {
   "cell_type": "markdown",
   "id": "217af258",
   "metadata": {},
   "source": [
    "Positive reviews"
   ]
  },
  {
   "cell_type": "code",
   "execution_count": 30,
   "id": "8f2dccb8",
   "metadata": {},
   "outputs": [
    {
     "data": {
      "text/html": [
       "<div>\n",
       "<style scoped>\n",
       "    .dataframe tbody tr th:only-of-type {\n",
       "        vertical-align: middle;\n",
       "    }\n",
       "\n",
       "    .dataframe tbody tr th {\n",
       "        vertical-align: top;\n",
       "    }\n",
       "\n",
       "    .dataframe thead th {\n",
       "        text-align: right;\n",
       "    }\n",
       "</style>\n",
       "<table border=\"1\" class=\"dataframe\">\n",
       "  <thead>\n",
       "    <tr style=\"text-align: right;\">\n",
       "      <th></th>\n",
       "      <th>firm</th>\n",
       "      <th>headline</th>\n",
       "      <th>pros</th>\n",
       "      <th>polarity</th>\n",
       "      <th>subjectivity</th>\n",
       "    </tr>\n",
       "  </thead>\n",
       "  <tbody>\n",
       "    <tr>\n",
       "      <th>1</th>\n",
       "      <td>Accenture</td>\n",
       "      <td>A good employer but not without challenges - o...</td>\n",
       "      <td>Great network, collaborative, bright people, c...</td>\n",
       "      <td>0.391667</td>\n",
       "      <td>0.570833</td>\n",
       "    </tr>\n",
       "    <tr>\n",
       "      <th>2</th>\n",
       "      <td>Accenture</td>\n",
       "      <td>the grass is actually quite green on this side...</td>\n",
       "      <td>Diversity of work, general calibre of people,</td>\n",
       "      <td>0.050000</td>\n",
       "      <td>0.500000</td>\n",
       "    </tr>\n",
       "    <tr>\n",
       "      <th>3</th>\n",
       "      <td>Accenture</td>\n",
       "      <td>A good company to work for, but dont expect a ...</td>\n",
       "      <td>driven and focused company, which does give op...</td>\n",
       "      <td>0.125000</td>\n",
       "      <td>0.291667</td>\n",
       "    </tr>\n",
       "    <tr>\n",
       "      <th>4</th>\n",
       "      <td>Accenture</td>\n",
       "      <td>An okay place to be!</td>\n",
       "      <td>The variety of work and clients can be inspiri...</td>\n",
       "      <td>0.500000</td>\n",
       "      <td>1.000000</td>\n",
       "    </tr>\n",
       "    <tr>\n",
       "      <th>6</th>\n",
       "      <td>Accenture</td>\n",
       "      <td>Better than most other places to work</td>\n",
       "      <td>Working with talented people on big complicate...</td>\n",
       "      <td>0.066667</td>\n",
       "      <td>0.666667</td>\n",
       "    </tr>\n",
       "    <tr>\n",
       "      <th>7</th>\n",
       "      <td>Accenture</td>\n",
       "      <td>A place to spend a few years but not a long te...</td>\n",
       "      <td>Good for CV.  Some of the people were great to...</td>\n",
       "      <td>0.650000</td>\n",
       "      <td>0.737500</td>\n",
       "    </tr>\n",
       "    <tr>\n",
       "      <th>8</th>\n",
       "      <td>Accenture</td>\n",
       "      <td>Great company if you work hard and don't have ...</td>\n",
       "      <td>There is s huge variety of work available, and...</td>\n",
       "      <td>0.172513</td>\n",
       "      <td>0.638492</td>\n",
       "    </tr>\n",
       "    <tr>\n",
       "      <th>9</th>\n",
       "      <td>Accenture</td>\n",
       "      <td>Great place if you are ambitious and like work...</td>\n",
       "      <td>Accenture is a great place to learn about deli...</td>\n",
       "      <td>0.219625</td>\n",
       "      <td>0.479004</td>\n",
       "    </tr>\n",
       "    <tr>\n",
       "      <th>10</th>\n",
       "      <td>Accenture</td>\n",
       "      <td>Good place to begin your career in consulting</td>\n",
       "      <td>Good place to start after university, if you a...</td>\n",
       "      <td>0.194859</td>\n",
       "      <td>0.547944</td>\n",
       "    </tr>\n",
       "    <tr>\n",
       "      <th>11</th>\n",
       "      <td>Accenture</td>\n",
       "      <td>Accenture - outstanding opportunities if you h...</td>\n",
       "      <td>To Accenture employees \"the firm\" is both empl...</td>\n",
       "      <td>0.217459</td>\n",
       "      <td>0.534691</td>\n",
       "    </tr>\n",
       "  </tbody>\n",
       "</table>\n",
       "</div>"
      ],
      "text/plain": [
       "         firm                                           headline  \\\n",
       "1   Accenture  A good employer but not without challenges - o...   \n",
       "2   Accenture  the grass is actually quite green on this side...   \n",
       "3   Accenture  A good company to work for, but dont expect a ...   \n",
       "4   Accenture                               An okay place to be!   \n",
       "6   Accenture              Better than most other places to work   \n",
       "7   Accenture  A place to spend a few years but not a long te...   \n",
       "8   Accenture  Great company if you work hard and don't have ...   \n",
       "9   Accenture  Great place if you are ambitious and like work...   \n",
       "10  Accenture      Good place to begin your career in consulting   \n",
       "11  Accenture  Accenture - outstanding opportunities if you h...   \n",
       "\n",
       "                                                 pros  polarity  subjectivity  \n",
       "1   Great network, collaborative, bright people, c...  0.391667      0.570833  \n",
       "2       Diversity of work, general calibre of people,  0.050000      0.500000  \n",
       "3   driven and focused company, which does give op...  0.125000      0.291667  \n",
       "4   The variety of work and clients can be inspiri...  0.500000      1.000000  \n",
       "6   Working with talented people on big complicate...  0.066667      0.666667  \n",
       "7   Good for CV.  Some of the people were great to...  0.650000      0.737500  \n",
       "8   There is s huge variety of work available, and...  0.172513      0.638492  \n",
       "9   Accenture is a great place to learn about deli...  0.219625      0.479004  \n",
       "10  Good place to start after university, if you a...  0.194859      0.547944  \n",
       "11  To Accenture employees \"the firm\" is both empl...  0.217459      0.534691  "
      ]
     },
     "execution_count": 30,
     "metadata": {},
     "output_type": "execute_result"
    }
   ],
   "source": [
    "data[['firm','headline','pros','polarity','subjectivity']][data.polarity>0].head(10)"
   ]
  },
  {
   "cell_type": "markdown",
   "id": "8631f77b",
   "metadata": {},
   "source": [
    "Negative Reviews"
   ]
  },
  {
   "cell_type": "code",
   "execution_count": 31,
   "id": "cd726386",
   "metadata": {},
   "outputs": [
    {
     "data": {
      "text/html": [
       "<div>\n",
       "<style scoped>\n",
       "    .dataframe tbody tr th:only-of-type {\n",
       "        vertical-align: middle;\n",
       "    }\n",
       "\n",
       "    .dataframe tbody tr th {\n",
       "        vertical-align: top;\n",
       "    }\n",
       "\n",
       "    .dataframe thead th {\n",
       "        text-align: right;\n",
       "    }\n",
       "</style>\n",
       "<table border=\"1\" class=\"dataframe\">\n",
       "  <thead>\n",
       "    <tr style=\"text-align: right;\">\n",
       "      <th></th>\n",
       "      <th>firm</th>\n",
       "      <th>headline</th>\n",
       "      <th>pros</th>\n",
       "      <th>polarity</th>\n",
       "      <th>subjectivity</th>\n",
       "    </tr>\n",
       "  </thead>\n",
       "  <tbody>\n",
       "    <tr>\n",
       "      <th>12</th>\n",
       "      <td>Accenture</td>\n",
       "      <td>Good opportunities, but the workforce system s...</td>\n",
       "      <td>If you join the Consulting workforce in the UK...</td>\n",
       "      <td>-0.133333</td>\n",
       "      <td>0.233333</td>\n",
       "    </tr>\n",
       "    <tr>\n",
       "      <th>27</th>\n",
       "      <td>Accenture</td>\n",
       "      <td>Tough at the middle, never mind the top!</td>\n",
       "      <td>Variety of work and top-class colleagues, who ...</td>\n",
       "      <td>-0.062500</td>\n",
       "      <td>0.237500</td>\n",
       "    </tr>\n",
       "    <tr>\n",
       "      <th>129</th>\n",
       "      <td>American-Express</td>\n",
       "      <td>Good work culture but pay sucks</td>\n",
       "      <td>Work life balance in some groups. - Although e...</td>\n",
       "      <td>-0.042857</td>\n",
       "      <td>0.414286</td>\n",
       "    </tr>\n",
       "    <tr>\n",
       "      <th>160</th>\n",
       "      <td>American-Express</td>\n",
       "      <td>AMEX is a great place to work for IT and techn...</td>\n",
       "      <td>Flexible work arrangements, generous paid time...</td>\n",
       "      <td>-0.007341</td>\n",
       "      <td>0.407937</td>\n",
       "    </tr>\n",
       "    <tr>\n",
       "      <th>194</th>\n",
       "      <td>American-Express</td>\n",
       "      <td>Passive Aggressive Culture and it's all about ...</td>\n",
       "      <td>Work Life balance is what they preach here, bu...</td>\n",
       "      <td>-0.061667</td>\n",
       "      <td>0.351667</td>\n",
       "    </tr>\n",
       "    <tr>\n",
       "      <th>210</th>\n",
       "      <td>American-Express</td>\n",
       "      <td>aexp employee</td>\n",
       "      <td>A stable company in these tough times. Opportu...</td>\n",
       "      <td>-0.388889</td>\n",
       "      <td>0.833333</td>\n",
       "    </tr>\n",
       "    <tr>\n",
       "      <th>326</th>\n",
       "      <td>Apple</td>\n",
       "      <td>Apple is amazing to work for!</td>\n",
       "      <td>I feel that I am treated like if not better th...</td>\n",
       "      <td>-0.002083</td>\n",
       "      <td>0.475000</td>\n",
       "    </tr>\n",
       "    <tr>\n",
       "      <th>331</th>\n",
       "      <td>Apple</td>\n",
       "      <td>Apple is not a bad place to work.</td>\n",
       "      <td>With Apple the computer world is at your finge...</td>\n",
       "      <td>-0.068571</td>\n",
       "      <td>0.632381</td>\n",
       "    </tr>\n",
       "    <tr>\n",
       "      <th>368</th>\n",
       "      <td>Apple</td>\n",
       "      <td>Apple Rocks as a place to work</td>\n",
       "      <td>Products, culture and other things</td>\n",
       "      <td>-0.125000</td>\n",
       "      <td>0.375000</td>\n",
       "    </tr>\n",
       "    <tr>\n",
       "      <th>392</th>\n",
       "      <td>Apple</td>\n",
       "      <td>If you want to make a difference in tech, ther...</td>\n",
       "      <td>You get a chance to innovate, making a differe...</td>\n",
       "      <td>-0.059848</td>\n",
       "      <td>0.597727</td>\n",
       "    </tr>\n",
       "  </tbody>\n",
       "</table>\n",
       "</div>"
      ],
      "text/plain": [
       "                 firm                                           headline  \\\n",
       "12          Accenture  Good opportunities, but the workforce system s...   \n",
       "27          Accenture           Tough at the middle, never mind the top!   \n",
       "129  American-Express                    Good work culture but pay sucks   \n",
       "160  American-Express  AMEX is a great place to work for IT and techn...   \n",
       "194  American-Express  Passive Aggressive Culture and it's all about ...   \n",
       "210  American-Express                                      aexp employee   \n",
       "326             Apple                      Apple is amazing to work for!   \n",
       "331             Apple                  Apple is not a bad place to work.   \n",
       "368             Apple                     Apple Rocks as a place to work   \n",
       "392             Apple  If you want to make a difference in tech, ther...   \n",
       "\n",
       "                                                  pros  polarity  subjectivity  \n",
       "12   If you join the Consulting workforce in the UK... -0.133333      0.233333  \n",
       "27   Variety of work and top-class colleagues, who ... -0.062500      0.237500  \n",
       "129  Work life balance in some groups. - Although e... -0.042857      0.414286  \n",
       "160  Flexible work arrangements, generous paid time... -0.007341      0.407937  \n",
       "194  Work Life balance is what they preach here, bu... -0.061667      0.351667  \n",
       "210  A stable company in these tough times. Opportu... -0.388889      0.833333  \n",
       "326  I feel that I am treated like if not better th... -0.002083      0.475000  \n",
       "331  With Apple the computer world is at your finge... -0.068571      0.632381  \n",
       "368                 Products, culture and other things -0.125000      0.375000  \n",
       "392  You get a chance to innovate, making a differe... -0.059848      0.597727  "
      ]
     },
     "execution_count": 31,
     "metadata": {},
     "output_type": "execute_result"
    }
   ],
   "source": [
    "data[['firm','headline','pros','polarity','subjectivity']][data.polarity<0].head(10)"
   ]
  },
  {
   "cell_type": "markdown",
   "id": "28554922",
   "metadata": {},
   "source": [
    "Highly Positive Reviews"
   ]
  },
  {
   "cell_type": "code",
   "execution_count": 32,
   "id": "539f95ba",
   "metadata": {},
   "outputs": [
    {
     "data": {
      "text/html": [
       "<div>\n",
       "<style scoped>\n",
       "    .dataframe tbody tr th:only-of-type {\n",
       "        vertical-align: middle;\n",
       "    }\n",
       "\n",
       "    .dataframe tbody tr th {\n",
       "        vertical-align: top;\n",
       "    }\n",
       "\n",
       "    .dataframe thead th {\n",
       "        text-align: right;\n",
       "    }\n",
       "</style>\n",
       "<table border=\"1\" class=\"dataframe\">\n",
       "  <thead>\n",
       "    <tr style=\"text-align: right;\">\n",
       "      <th></th>\n",
       "      <th>firm</th>\n",
       "      <th>headline</th>\n",
       "      <th>pros</th>\n",
       "      <th>polarity</th>\n",
       "      <th>subjectivity</th>\n",
       "    </tr>\n",
       "  </thead>\n",
       "  <tbody>\n",
       "    <tr>\n",
       "      <th>74</th>\n",
       "      <td>American-Express</td>\n",
       "      <td>Overall amex is a good place to have a career</td>\n",
       "      <td>Work / Life balance is very good except in Fin...</td>\n",
       "      <td>0.9100</td>\n",
       "      <td>0.7800</td>\n",
       "    </tr>\n",
       "    <tr>\n",
       "      <th>180</th>\n",
       "      <td>American-Express</td>\n",
       "      <td>Senior Leaders at American  Express demonstrat...</td>\n",
       "      <td>work life balance is the best</td>\n",
       "      <td>1.0000</td>\n",
       "      <td>0.3000</td>\n",
       "    </tr>\n",
       "    <tr>\n",
       "      <th>218</th>\n",
       "      <td>American-Express</td>\n",
       "      <td>Think Twice</td>\n",
       "      <td>work/life balance is the best thing</td>\n",
       "      <td>1.0000</td>\n",
       "      <td>0.3000</td>\n",
       "    </tr>\n",
       "    <tr>\n",
       "      <th>221</th>\n",
       "      <td>American-Express</td>\n",
       "      <td>Downside for working for a company for a long ...</td>\n",
       "      <td>Benifits--I beleive the benifits are very good.</td>\n",
       "      <td>0.9100</td>\n",
       "      <td>0.7800</td>\n",
       "    </tr>\n",
       "    <tr>\n",
       "      <th>468</th>\n",
       "      <td>AstraZeneca</td>\n",
       "      <td>AstraZeneca</td>\n",
       "      <td>The benefits and salary are the best part of t...</td>\n",
       "      <td>1.0000</td>\n",
       "      <td>0.3000</td>\n",
       "    </tr>\n",
       "    <tr>\n",
       "      <th>557</th>\n",
       "      <td>Barclays</td>\n",
       "      <td>Lack of Supervisor Communication</td>\n",
       "      <td>Benefits were probably the best part about wor...</td>\n",
       "      <td>1.0000</td>\n",
       "      <td>0.3000</td>\n",
       "    </tr>\n",
       "    <tr>\n",
       "      <th>718</th>\n",
       "      <td>Cisco-Systems</td>\n",
       "      <td>Great company to work for</td>\n",
       "      <td>Opportunity to work on the latest and the grea...</td>\n",
       "      <td>0.8750</td>\n",
       "      <td>0.6250</td>\n",
       "    </tr>\n",
       "    <tr>\n",
       "      <th>737</th>\n",
       "      <td>Cisco-Systems</td>\n",
       "      <td>Senior Software Engineer</td>\n",
       "      <td>Very good compensation package, empowerment ov...</td>\n",
       "      <td>0.9100</td>\n",
       "      <td>0.7800</td>\n",
       "    </tr>\n",
       "    <tr>\n",
       "      <th>750</th>\n",
       "      <td>Cisco-Systems</td>\n",
       "      <td>cisco work life balance</td>\n",
       "      <td>cisco has good work life balance. very good co...</td>\n",
       "      <td>0.8050</td>\n",
       "      <td>0.6900</td>\n",
       "    </tr>\n",
       "    <tr>\n",
       "      <th>756</th>\n",
       "      <td>Cisco-Systems</td>\n",
       "      <td>good brand with no human touch</td>\n",
       "      <td>great brand name, great support for crisis mom...</td>\n",
       "      <td>0.8275</td>\n",
       "      <td>0.7575</td>\n",
       "    </tr>\n",
       "  </tbody>\n",
       "</table>\n",
       "</div>"
      ],
      "text/plain": [
       "                 firm                                           headline  \\\n",
       "74   American-Express      Overall amex is a good place to have a career   \n",
       "180  American-Express  Senior Leaders at American  Express demonstrat...   \n",
       "218  American-Express                                        Think Twice   \n",
       "221  American-Express  Downside for working for a company for a long ...   \n",
       "468       AstraZeneca                                        AstraZeneca   \n",
       "557          Barclays                   Lack of Supervisor Communication   \n",
       "718     Cisco-Systems                          Great company to work for   \n",
       "737     Cisco-Systems                           Senior Software Engineer   \n",
       "750     Cisco-Systems                            cisco work life balance   \n",
       "756     Cisco-Systems                     good brand with no human touch   \n",
       "\n",
       "                                                  pros  polarity  subjectivity  \n",
       "74   Work / Life balance is very good except in Fin...    0.9100        0.7800  \n",
       "180                      work life balance is the best    1.0000        0.3000  \n",
       "218                work/life balance is the best thing    1.0000        0.3000  \n",
       "221    Benifits--I beleive the benifits are very good.    0.9100        0.7800  \n",
       "468  The benefits and salary are the best part of t...    1.0000        0.3000  \n",
       "557  Benefits were probably the best part about wor...    1.0000        0.3000  \n",
       "718  Opportunity to work on the latest and the grea...    0.8750        0.6250  \n",
       "737  Very good compensation package, empowerment ov...    0.9100        0.7800  \n",
       "750  cisco has good work life balance. very good co...    0.8050        0.6900  \n",
       "756  great brand name, great support for crisis mom...    0.8275        0.7575  "
      ]
     },
     "execution_count": 32,
     "metadata": {},
     "output_type": "execute_result"
    }
   ],
   "source": [
    "data[['firm','headline','pros','polarity','subjectivity']][data.polarity>0.8].head(10)"
   ]
  },
  {
   "cell_type": "markdown",
   "id": "ac7ed420",
   "metadata": {},
   "source": [
    "Highly Negative Reviews"
   ]
  },
  {
   "cell_type": "code",
   "execution_count": 33,
   "id": "b34ba8b9",
   "metadata": {},
   "outputs": [
    {
     "data": {
      "text/html": [
       "<div>\n",
       "<style scoped>\n",
       "    .dataframe tbody tr th:only-of-type {\n",
       "        vertical-align: middle;\n",
       "    }\n",
       "\n",
       "    .dataframe tbody tr th {\n",
       "        vertical-align: top;\n",
       "    }\n",
       "\n",
       "    .dataframe thead th {\n",
       "        text-align: right;\n",
       "    }\n",
       "</style>\n",
       "<table border=\"1\" class=\"dataframe\">\n",
       "  <thead>\n",
       "    <tr style=\"text-align: right;\">\n",
       "      <th></th>\n",
       "      <th>firm</th>\n",
       "      <th>headline</th>\n",
       "      <th>cons</th>\n",
       "      <th>polarity</th>\n",
       "      <th>subjectivity</th>\n",
       "    </tr>\n",
       "  </thead>\n",
       "  <tbody>\n",
       "    <tr>\n",
       "      <th>210</th>\n",
       "      <td>American-Express</td>\n",
       "      <td>aexp employee</td>\n",
       "      <td>Very regimented.  Sometimes difficult to arran...</td>\n",
       "      <td>-0.388889</td>\n",
       "      <td>0.833333</td>\n",
       "    </tr>\n",
       "    <tr>\n",
       "      <th>463</th>\n",
       "      <td>AstraZeneca</td>\n",
       "      <td>IT Project Manager</td>\n",
       "      <td>There is little teamwork, everyone is concerne...</td>\n",
       "      <td>-0.300000</td>\n",
       "      <td>0.450000</td>\n",
       "    </tr>\n",
       "    <tr>\n",
       "      <th>767</th>\n",
       "      <td>Citi</td>\n",
       "      <td>CitiCorp, Fading Giant</td>\n",
       "      <td>too clannish, not as professional as other glo...</td>\n",
       "      <td>-0.800000</td>\n",
       "      <td>0.900000</td>\n",
       "    </tr>\n",
       "    <tr>\n",
       "      <th>772</th>\n",
       "      <td>Citi</td>\n",
       "      <td>A nice place to work but</td>\n",
       "      <td>Very little leadership and career opportunies,...</td>\n",
       "      <td>-0.357143</td>\n",
       "      <td>0.578571</td>\n",
       "    </tr>\n",
       "    <tr>\n",
       "      <th>866</th>\n",
       "      <td>Deloitte</td>\n",
       "      <td>Deloitte Sucks</td>\n",
       "      <td>1. Very cutthroat\\r\\n2. No support structure\\r...</td>\n",
       "      <td>-0.447222</td>\n",
       "      <td>0.487222</td>\n",
       "    </tr>\n",
       "  </tbody>\n",
       "</table>\n",
       "</div>"
      ],
      "text/plain": [
       "                 firm                  headline  \\\n",
       "210  American-Express             aexp employee   \n",
       "463       AstraZeneca        IT Project Manager   \n",
       "767              Citi    CitiCorp, Fading Giant   \n",
       "772              Citi  A nice place to work but   \n",
       "866          Deloitte            Deloitte Sucks   \n",
       "\n",
       "                                                  cons  polarity  subjectivity  \n",
       "210  Very regimented.  Sometimes difficult to arran... -0.388889      0.833333  \n",
       "463  There is little teamwork, everyone is concerne... -0.300000      0.450000  \n",
       "767  too clannish, not as professional as other glo... -0.800000      0.900000  \n",
       "772  Very little leadership and career opportunies,... -0.357143      0.578571  \n",
       "866  1. Very cutthroat\\r\\n2. No support structure\\r... -0.447222      0.487222  "
      ]
     },
     "execution_count": 33,
     "metadata": {},
     "output_type": "execute_result"
    }
   ],
   "source": [
    "data[['firm','headline','cons','polarity','subjectivity']][data.polarity<-0.25].head(10)"
   ]
  },
  {
   "cell_type": "code",
   "execution_count": 34,
   "id": "945acd80",
   "metadata": {},
   "outputs": [
    {
     "data": {
      "text/plain": [
       "<AxesSubplot:>"
      ]
     },
     "execution_count": 34,
     "metadata": {},
     "output_type": "execute_result"
    },
    {
     "data": {
      "image/png": "[encoded data removed]",
      "text/plain": [
       "<Figure size 432x288 with 1 Axes>"
      ]
     },
     "metadata": {},
     "output_type": "display_data"
    }
   ],
   "source": [
    "data.polarity.hist(bins=50)"
   ]
  },
  {
   "cell_type": "code",
   "execution_count": 35,
   "id": "18563d69",
   "metadata": {},
   "outputs": [
    {
     "data": {
      "text/plain": [
       "<AxesSubplot:>"
      ]
     },
     "execution_count": 35,
     "metadata": {},
     "output_type": "execute_result"
    },
    {
     "data": {
      "image/png": "[encoded data removed]",
      "text/plain": [
       "<Figure size 432x288 with 1 Axes>"
      ]
     },
     "metadata": {},
     "output_type": "display_data"
    }
   ],
   "source": [
    "data.subjectivity.hist(bins=50)"
   ]
  },
  {
   "cell_type": "code",
   "execution_count": 36,
   "id": "25967189",
   "metadata": {},
   "outputs": [
    {
     "name": "stderr",
     "output_type": "stream",
     "text": [
      "<ipython-input-36-c4e6596a10cb>:1: SettingWithCopyWarning: \n",
      "A value is trying to be set on a copy of a slice from a DataFrame\n",
      "\n",
      "See the caveats in the documentation: https://pandas.pydata.org/pandas-docs/stable/user_guide/indexing.html#returning-a-view-versus-a-copy\n",
      "  data['polarity'][data.polarity==0]= 0\n",
      "<ipython-input-36-c4e6596a10cb>:2: SettingWithCopyWarning: \n",
      "A value is trying to be set on a copy of a slice from a DataFrame\n",
      "\n",
      "See the caveats in the documentation: https://pandas.pydata.org/pandas-docs/stable/user_guide/indexing.html#returning-a-view-versus-a-copy\n",
      "  data['polarity'][data.polarity > 0]= 1\n",
      "<ipython-input-36-c4e6596a10cb>:3: SettingWithCopyWarning: \n",
      "A value is trying to be set on a copy of a slice from a DataFrame\n",
      "\n",
      "See the caveats in the documentation: https://pandas.pydata.org/pandas-docs/stable/user_guide/indexing.html#returning-a-view-versus-a-copy\n",
      "  data['polarity'][data.polarity < 0]= -1\n"
     ]
    }
   ],
   "source": [
    "data['polarity'][data.polarity==0]= 0\n",
    "data['polarity'][data.polarity > 0]= 1\n",
    "data['polarity'][data.polarity < 0]= -1"
   ]
  },
  {
   "cell_type": "code",
   "execution_count": 37,
   "id": "99a44cdc",
   "metadata": {},
   "outputs": [
    {
     "data": {
      "text/plain": [
       " 1.0    1020\n",
       " 0.0     119\n",
       "-1.0      41\n",
       "Name: polarity, dtype: int64"
      ]
     },
     "execution_count": 37,
     "metadata": {},
     "output_type": "execute_result"
    },
    {
     "data": {
      "image/png": "[encoded data removed]",
      "text/plain": [
       "<Figure size 432x288 with 1 Axes>"
      ]
     },
     "metadata": {},
     "output_type": "display_data"
    }
   ],
   "source": [
    "data.polarity.value_counts().plot.bar()\n",
    "data.polarity.value_counts()"
   ]
  },
  {
   "cell_type": "code",
   "execution_count": 39,
   "id": "dfa4aa2a",
   "metadata": {},
   "outputs": [],
   "source": [
    "data = data\n",
    "polarity=[] # list which will contain the polarity of the reviews\n",
    "subjectivity=[] # list which will contain the subjectivity of the reviews\n",
    "for i in data['cons'].values:\n",
    "    try:\n",
    "        analysis =TextBlob(i)\n",
    "        polarity.append(analysis.sentiment.polarity)\n",
    "        subjectivity.append(analysis.sentiment.subjectivity)\n",
    "        \n",
    "    except:\n",
    "        polarity.append(0)\n",
    "        subjectivity.append(0)"
   ]
  },
  {
   "cell_type": "code",
   "execution_count": 40,
   "id": "ec8f97cd",
   "metadata": {},
   "outputs": [],
   "source": [
    "data['polarity']=polarity\n",
    "data['subjectivity']=subjectivity"
   ]
  },
  {
   "cell_type": "code",
   "execution_count": 41,
   "id": "32ef0957",
   "metadata": {},
   "outputs": [
    {
     "data": {
      "text/html": [
       "<div>\n",
       "<style scoped>\n",
       "    .dataframe tbody tr th:only-of-type {\n",
       "        vertical-align: middle;\n",
       "    }\n",
       "\n",
       "    .dataframe tbody tr th {\n",
       "        vertical-align: top;\n",
       "    }\n",
       "\n",
       "    .dataframe thead th {\n",
       "        text-align: right;\n",
       "    }\n",
       "</style>\n",
       "<table border=\"1\" class=\"dataframe\">\n",
       "  <thead>\n",
       "    <tr style=\"text-align: right;\">\n",
       "      <th></th>\n",
       "      <th>headline</th>\n",
       "      <th>pros</th>\n",
       "      <th>polarity</th>\n",
       "      <th>subjectivity</th>\n",
       "    </tr>\n",
       "  </thead>\n",
       "  <tbody>\n",
       "    <tr>\n",
       "      <th>0</th>\n",
       "      <td>big profits - poor people management</td>\n",
       "      <td>the name and access the C level</td>\n",
       "      <td>0.100000</td>\n",
       "      <td>0.350000</td>\n",
       "    </tr>\n",
       "    <tr>\n",
       "      <th>1</th>\n",
       "      <td>A good employer but not without challenges - o...</td>\n",
       "      <td>Great network, collaborative, bright people, c...</td>\n",
       "      <td>0.253571</td>\n",
       "      <td>0.442857</td>\n",
       "    </tr>\n",
       "    <tr>\n",
       "      <th>3</th>\n",
       "      <td>A good company to work for, but dont expect a ...</td>\n",
       "      <td>driven and focused company, which does give op...</td>\n",
       "      <td>0.102841</td>\n",
       "      <td>0.532386</td>\n",
       "    </tr>\n",
       "    <tr>\n",
       "      <th>8</th>\n",
       "      <td>Great company if you work hard and don't have ...</td>\n",
       "      <td>There is s huge variety of work available, and...</td>\n",
       "      <td>0.185268</td>\n",
       "      <td>0.534386</td>\n",
       "    </tr>\n",
       "    <tr>\n",
       "      <th>9</th>\n",
       "      <td>Great place if you are ambitious and like work...</td>\n",
       "      <td>Accenture is a great place to learn about deli...</td>\n",
       "      <td>0.325000</td>\n",
       "      <td>0.591667</td>\n",
       "    </tr>\n",
       "    <tr>\n",
       "      <th>10</th>\n",
       "      <td>Good place to begin your career in consulting</td>\n",
       "      <td>Good place to start after university, if you a...</td>\n",
       "      <td>0.181151</td>\n",
       "      <td>0.358730</td>\n",
       "    </tr>\n",
       "    <tr>\n",
       "      <th>11</th>\n",
       "      <td>Accenture - outstanding opportunities if you h...</td>\n",
       "      <td>To Accenture employees \"the firm\" is both empl...</td>\n",
       "      <td>0.096474</td>\n",
       "      <td>0.578846</td>\n",
       "    </tr>\n",
       "    <tr>\n",
       "      <th>12</th>\n",
       "      <td>Good opportunities, but the workforce system s...</td>\n",
       "      <td>If you join the Consulting workforce in the UK...</td>\n",
       "      <td>0.099206</td>\n",
       "      <td>0.323413</td>\n",
       "    </tr>\n",
       "    <tr>\n",
       "      <th>14</th>\n",
       "      <td>Kick starts your career - but dominates your life</td>\n",
       "      <td>* Strong career development structure for new ...</td>\n",
       "      <td>0.129485</td>\n",
       "      <td>0.462042</td>\n",
       "    </tr>\n",
       "    <tr>\n",
       "      <th>15</th>\n",
       "      <td>If you want a great career and the recognition...</td>\n",
       "      <td>The potential career opportunities within Acce...</td>\n",
       "      <td>0.333333</td>\n",
       "      <td>0.666667</td>\n",
       "    </tr>\n",
       "  </tbody>\n",
       "</table>\n",
       "</div>"
      ],
      "text/plain": [
       "                                             headline  \\\n",
       "0                big profits - poor people management   \n",
       "1   A good employer but not without challenges - o...   \n",
       "3   A good company to work for, but dont expect a ...   \n",
       "8   Great company if you work hard and don't have ...   \n",
       "9   Great place if you are ambitious and like work...   \n",
       "10      Good place to begin your career in consulting   \n",
       "11  Accenture - outstanding opportunities if you h...   \n",
       "12  Good opportunities, but the workforce system s...   \n",
       "14  Kick starts your career - but dominates your life   \n",
       "15  If you want a great career and the recognition...   \n",
       "\n",
       "                                                 pros  polarity  subjectivity  \n",
       "0                     the name and access the C level  0.100000      0.350000  \n",
       "1   Great network, collaborative, bright people, c...  0.253571      0.442857  \n",
       "3   driven and focused company, which does give op...  0.102841      0.532386  \n",
       "8   There is s huge variety of work available, and...  0.185268      0.534386  \n",
       "9   Accenture is a great place to learn about deli...  0.325000      0.591667  \n",
       "10  Good place to start after university, if you a...  0.181151      0.358730  \n",
       "11  To Accenture employees \"the firm\" is both empl...  0.096474      0.578846  \n",
       "12  If you join the Consulting workforce in the UK...  0.099206      0.323413  \n",
       "14  * Strong career development structure for new ...  0.129485      0.462042  \n",
       "15  The potential career opportunities within Acce...  0.333333      0.666667  "
      ]
     },
     "execution_count": 41,
     "metadata": {},
     "output_type": "execute_result"
    }
   ],
   "source": [
    "data[['headline','pros','polarity','subjectivity']][data.polarity>0].head(10)"
   ]
  },
  {
   "cell_type": "code",
   "execution_count": 42,
   "id": "6ec8d503",
   "metadata": {},
   "outputs": [
    {
     "data": {
      "text/html": [
       "<div>\n",
       "<style scoped>\n",
       "    .dataframe tbody tr th:only-of-type {\n",
       "        vertical-align: middle;\n",
       "    }\n",
       "\n",
       "    .dataframe tbody tr th {\n",
       "        vertical-align: top;\n",
       "    }\n",
       "\n",
       "    .dataframe thead th {\n",
       "        text-align: right;\n",
       "    }\n",
       "</style>\n",
       "<table border=\"1\" class=\"dataframe\">\n",
       "  <thead>\n",
       "    <tr style=\"text-align: right;\">\n",
       "      <th></th>\n",
       "      <th>headline</th>\n",
       "      <th>pros</th>\n",
       "      <th>polarity</th>\n",
       "      <th>subjectivity</th>\n",
       "    </tr>\n",
       "  </thead>\n",
       "  <tbody>\n",
       "    <tr>\n",
       "      <th>4</th>\n",
       "      <td>An okay place to be!</td>\n",
       "      <td>The variety of work and clients can be inspiri...</td>\n",
       "      <td>-0.183929</td>\n",
       "      <td>0.642857</td>\n",
       "    </tr>\n",
       "    <tr>\n",
       "      <th>5</th>\n",
       "      <td>A great place to learn and grow... just be sur...</td>\n",
       "      <td>The people you work with;\\r\\nThe clients you w...</td>\n",
       "      <td>-0.011054</td>\n",
       "      <td>0.462415</td>\n",
       "    </tr>\n",
       "    <tr>\n",
       "      <th>6</th>\n",
       "      <td>Better than most other places to work</td>\n",
       "      <td>Working with talented people on big complicate...</td>\n",
       "      <td>-0.050000</td>\n",
       "      <td>0.400000</td>\n",
       "    </tr>\n",
       "    <tr>\n",
       "      <th>7</th>\n",
       "      <td>A place to spend a few years but not a long te...</td>\n",
       "      <td>Good for CV.  Some of the people were great to...</td>\n",
       "      <td>-0.021875</td>\n",
       "      <td>0.706250</td>\n",
       "    </tr>\n",
       "    <tr>\n",
       "      <th>13</th>\n",
       "      <td>Great place to start any career but dont be af...</td>\n",
       "      <td>Breadth of exposure to all parts of big busine...</td>\n",
       "      <td>-0.196429</td>\n",
       "      <td>0.767857</td>\n",
       "    </tr>\n",
       "    <tr>\n",
       "      <th>17</th>\n",
       "      <td>Accenture is more about getting alot of ppl th...</td>\n",
       "      <td>Name brand and if you fit in then you will pro...</td>\n",
       "      <td>-0.002500</td>\n",
       "      <td>0.469167</td>\n",
       "    </tr>\n",
       "    <tr>\n",
       "      <th>18</th>\n",
       "      <td>Not worth the time</td>\n",
       "      <td>Good firm reputation, looks good on your CV, g...</td>\n",
       "      <td>-0.180556</td>\n",
       "      <td>0.494444</td>\n",
       "    </tr>\n",
       "    <tr>\n",
       "      <th>19</th>\n",
       "      <td>great place to gain experience but don't view ...</td>\n",
       "      <td>the opportunities to work with some prestigiou...</td>\n",
       "      <td>-0.035819</td>\n",
       "      <td>0.466098</td>\n",
       "    </tr>\n",
       "    <tr>\n",
       "      <th>21</th>\n",
       "      <td>Learn all you can then leave.</td>\n",
       "      <td>Money - salaries are good but you'll earn ever...</td>\n",
       "      <td>-0.068850</td>\n",
       "      <td>0.490451</td>\n",
       "    </tr>\n",
       "    <tr>\n",
       "      <th>27</th>\n",
       "      <td>Tough at the middle, never mind the top!</td>\n",
       "      <td>Variety of work and top-class colleagues, who ...</td>\n",
       "      <td>-0.277778</td>\n",
       "      <td>0.666667</td>\n",
       "    </tr>\n",
       "  </tbody>\n",
       "</table>\n",
       "</div>"
      ],
      "text/plain": [
       "                                             headline  \\\n",
       "4                                An okay place to be!   \n",
       "5   A great place to learn and grow... just be sur...   \n",
       "6               Better than most other places to work   \n",
       "7   A place to spend a few years but not a long te...   \n",
       "13  Great place to start any career but dont be af...   \n",
       "17  Accenture is more about getting alot of ppl th...   \n",
       "18                                 Not worth the time   \n",
       "19  great place to gain experience but don't view ...   \n",
       "21                      Learn all you can then leave.   \n",
       "27           Tough at the middle, never mind the top!   \n",
       "\n",
       "                                                 pros  polarity  subjectivity  \n",
       "4   The variety of work and clients can be inspiri... -0.183929      0.642857  \n",
       "5   The people you work with;\\r\\nThe clients you w... -0.011054      0.462415  \n",
       "6   Working with talented people on big complicate... -0.050000      0.400000  \n",
       "7   Good for CV.  Some of the people were great to... -0.021875      0.706250  \n",
       "13  Breadth of exposure to all parts of big busine... -0.196429      0.767857  \n",
       "17  Name brand and if you fit in then you will pro... -0.002500      0.469167  \n",
       "18  Good firm reputation, looks good on your CV, g... -0.180556      0.494444  \n",
       "19  the opportunities to work with some prestigiou... -0.035819      0.466098  \n",
       "21  Money - salaries are good but you'll earn ever... -0.068850      0.490451  \n",
       "27  Variety of work and top-class colleagues, who ... -0.277778      0.666667  "
      ]
     },
     "execution_count": 42,
     "metadata": {},
     "output_type": "execute_result"
    }
   ],
   "source": [
    "data[['headline','pros','polarity','subjectivity']][data.polarity<0].head(10)"
   ]
  },
  {
   "cell_type": "code",
   "execution_count": 43,
   "id": "7d88a2d6",
   "metadata": {},
   "outputs": [
    {
     "data": {
      "text/html": [
       "<div>\n",
       "<style scoped>\n",
       "    .dataframe tbody tr th:only-of-type {\n",
       "        vertical-align: middle;\n",
       "    }\n",
       "\n",
       "    .dataframe tbody tr th {\n",
       "        vertical-align: top;\n",
       "    }\n",
       "\n",
       "    .dataframe thead th {\n",
       "        text-align: right;\n",
       "    }\n",
       "</style>\n",
       "<table border=\"1\" class=\"dataframe\">\n",
       "  <thead>\n",
       "    <tr style=\"text-align: right;\">\n",
       "      <th></th>\n",
       "      <th>headline</th>\n",
       "      <th>pros</th>\n",
       "      <th>polarity</th>\n",
       "      <th>subjectivity</th>\n",
       "    </tr>\n",
       "  </thead>\n",
       "  <tbody>\n",
       "    <tr>\n",
       "      <th>83</th>\n",
       "      <td>Solid company to work for</td>\n",
       "      <td>People here are hard working, knowledeable and...</td>\n",
       "      <td>0.85</td>\n",
       "      <td>0.6</td>\n",
       "    </tr>\n",
       "    <tr>\n",
       "      <th>577</th>\n",
       "      <td>Some very smart people here</td>\n",
       "      <td>Get chance to work with some very smart people...</td>\n",
       "      <td>1.00</td>\n",
       "      <td>1.0</td>\n",
       "    </tr>\n",
       "    <tr>\n",
       "      <th>1025</th>\n",
       "      <td>Most of what you hear is true - both good and ...</td>\n",
       "      <td>To build your resume with the experience at wo...</td>\n",
       "      <td>1.00</td>\n",
       "      <td>0.3</td>\n",
       "    </tr>\n",
       "  </tbody>\n",
       "</table>\n",
       "</div>"
      ],
      "text/plain": [
       "                                               headline  \\\n",
       "83                            Solid company to work for   \n",
       "577                         Some very smart people here   \n",
       "1025  Most of what you hear is true - both good and ...   \n",
       "\n",
       "                                                   pros  polarity  \\\n",
       "83    People here are hard working, knowledeable and...      0.85   \n",
       "577   Get chance to work with some very smart people...      1.00   \n",
       "1025  To build your resume with the experience at wo...      1.00   \n",
       "\n",
       "      subjectivity  \n",
       "83             0.6  \n",
       "577            1.0  \n",
       "1025           0.3  "
      ]
     },
     "execution_count": 43,
     "metadata": {},
     "output_type": "execute_result"
    }
   ],
   "source": [
    "data[['headline','pros','polarity','subjectivity']][data.polarity>0.8].head(10)"
   ]
  },
  {
   "cell_type": "code",
   "execution_count": 44,
   "id": "a722a415",
   "metadata": {},
   "outputs": [
    {
     "data": {
      "text/html": [
       "<div>\n",
       "<style scoped>\n",
       "    .dataframe tbody tr th:only-of-type {\n",
       "        vertical-align: middle;\n",
       "    }\n",
       "\n",
       "    .dataframe tbody tr th {\n",
       "        vertical-align: top;\n",
       "    }\n",
       "\n",
       "    .dataframe thead th {\n",
       "        text-align: right;\n",
       "    }\n",
       "</style>\n",
       "<table border=\"1\" class=\"dataframe\">\n",
       "  <thead>\n",
       "    <tr style=\"text-align: right;\">\n",
       "      <th></th>\n",
       "      <th>headline</th>\n",
       "      <th>pros</th>\n",
       "      <th>polarity</th>\n",
       "      <th>subjectivity</th>\n",
       "    </tr>\n",
       "  </thead>\n",
       "  <tbody>\n",
       "    <tr>\n",
       "      <th>27</th>\n",
       "      <td>Tough at the middle, never mind the top!</td>\n",
       "      <td>Variety of work and top-class colleagues, who ...</td>\n",
       "      <td>-0.277778</td>\n",
       "      <td>0.666667</td>\n",
       "    </tr>\n",
       "    <tr>\n",
       "      <th>30</th>\n",
       "      <td>None</td>\n",
       "      <td>Good job, reasonably paid.  Quality people.</td>\n",
       "      <td>-0.700000</td>\n",
       "      <td>0.666667</td>\n",
       "    </tr>\n",
       "    <tr>\n",
       "      <th>38</th>\n",
       "      <td>Satisfied with Accenture</td>\n",
       "      <td>Structure career model. Many social networks, ...</td>\n",
       "      <td>-0.333333</td>\n",
       "      <td>0.500000</td>\n",
       "    </tr>\n",
       "    <tr>\n",
       "      <th>55</th>\n",
       "      <td>Its not what you do, but who you know.</td>\n",
       "      <td>- Huge firm\\r\\n- Travel\\r\\n- Good training</td>\n",
       "      <td>-0.375000</td>\n",
       "      <td>0.533333</td>\n",
       "    </tr>\n",
       "    <tr>\n",
       "      <th>58</th>\n",
       "      <td>Awful company to work for !!</td>\n",
       "      <td>For ex-Barclays UK employees, whom were outsou...</td>\n",
       "      <td>-0.306667</td>\n",
       "      <td>0.571111</td>\n",
       "    </tr>\n",
       "    <tr>\n",
       "      <th>81</th>\n",
       "      <td>great place to work - slary and opportunites a...</td>\n",
       "      <td>fortune 100 company, salary, opportunites</td>\n",
       "      <td>-0.388889</td>\n",
       "      <td>0.833333</td>\n",
       "    </tr>\n",
       "    <tr>\n",
       "      <th>88</th>\n",
       "      <td>Once great, now looks to squeeze pennies out o...</td>\n",
       "      <td>Liberal PTO policy. Many opportunities and job...</td>\n",
       "      <td>-0.375000</td>\n",
       "      <td>0.625000</td>\n",
       "    </tr>\n",
       "    <tr>\n",
       "      <th>98</th>\n",
       "      <td>This job is for peole who want to sit and be m...</td>\n",
       "      <td>The reputation of the company is really good. ...</td>\n",
       "      <td>-0.311190</td>\n",
       "      <td>0.724762</td>\n",
       "    </tr>\n",
       "    <tr>\n",
       "      <th>106</th>\n",
       "      <td>Overally speaking it could be considered as a ...</td>\n",
       "      <td>It has good location, good reputation</td>\n",
       "      <td>-0.400000</td>\n",
       "      <td>0.600000</td>\n",
       "    </tr>\n",
       "    <tr>\n",
       "      <th>108</th>\n",
       "      <td>Amex is a pretty good place to work, but merit...</td>\n",
       "      <td>Good work life balance and culture.</td>\n",
       "      <td>-0.700000</td>\n",
       "      <td>0.666667</td>\n",
       "    </tr>\n",
       "  </tbody>\n",
       "</table>\n",
       "</div>"
      ],
      "text/plain": [
       "                                              headline  \\\n",
       "27            Tough at the middle, never mind the top!   \n",
       "30                                                None   \n",
       "38                            Satisfied with Accenture   \n",
       "55              Its not what you do, but who you know.   \n",
       "58                        Awful company to work for !!   \n",
       "81   great place to work - slary and opportunites a...   \n",
       "88   Once great, now looks to squeeze pennies out o...   \n",
       "98   This job is for peole who want to sit and be m...   \n",
       "106  Overally speaking it could be considered as a ...   \n",
       "108  Amex is a pretty good place to work, but merit...   \n",
       "\n",
       "                                                  pros  polarity  subjectivity  \n",
       "27   Variety of work and top-class colleagues, who ... -0.277778      0.666667  \n",
       "30         Good job, reasonably paid.  Quality people. -0.700000      0.666667  \n",
       "38   Structure career model. Many social networks, ... -0.333333      0.500000  \n",
       "55          - Huge firm\\r\\n- Travel\\r\\n- Good training -0.375000      0.533333  \n",
       "58   For ex-Barclays UK employees, whom were outsou... -0.306667      0.571111  \n",
       "81           fortune 100 company, salary, opportunites -0.388889      0.833333  \n",
       "88   Liberal PTO policy. Many opportunities and job... -0.375000      0.625000  \n",
       "98   The reputation of the company is really good. ... -0.311190      0.724762  \n",
       "106              It has good location, good reputation -0.400000      0.600000  \n",
       "108                Good work life balance and culture. -0.700000      0.666667  "
      ]
     },
     "execution_count": 44,
     "metadata": {},
     "output_type": "execute_result"
    }
   ],
   "source": [
    "data[['headline','pros','polarity','subjectivity']][data.polarity<-0.25].head(10)"
   ]
  },
  {
   "cell_type": "code",
   "execution_count": 45,
   "id": "9d937a72",
   "metadata": {},
   "outputs": [
    {
     "name": "stderr",
     "output_type": "stream",
     "text": [
      "<ipython-input-45-c4e6596a10cb>:1: SettingWithCopyWarning: \n",
      "A value is trying to be set on a copy of a slice from a DataFrame\n",
      "\n",
      "See the caveats in the documentation: https://pandas.pydata.org/pandas-docs/stable/user_guide/indexing.html#returning-a-view-versus-a-copy\n",
      "  data['polarity'][data.polarity==0]= 0\n",
      "<ipython-input-45-c4e6596a10cb>:2: SettingWithCopyWarning: \n",
      "A value is trying to be set on a copy of a slice from a DataFrame\n",
      "\n",
      "See the caveats in the documentation: https://pandas.pydata.org/pandas-docs/stable/user_guide/indexing.html#returning-a-view-versus-a-copy\n",
      "  data['polarity'][data.polarity > 0]= 1\n",
      "<ipython-input-45-c4e6596a10cb>:3: SettingWithCopyWarning: \n",
      "A value is trying to be set on a copy of a slice from a DataFrame\n",
      "\n",
      "See the caveats in the documentation: https://pandas.pydata.org/pandas-docs/stable/user_guide/indexing.html#returning-a-view-versus-a-copy\n",
      "  data['polarity'][data.polarity < 0]= -1\n"
     ]
    }
   ],
   "source": [
    "data['polarity'][data.polarity==0]= 0\n",
    "data['polarity'][data.polarity > 0]= 1\n",
    "data['polarity'][data.polarity < 0]= -1"
   ]
  },
  {
   "cell_type": "code",
   "execution_count": 46,
   "id": "51e6368a",
   "metadata": {},
   "outputs": [
    {
     "data": {
      "text/plain": [
       " 1.0    648\n",
       "-1.0    421\n",
       " 0.0    111\n",
       "Name: polarity, dtype: int64"
      ]
     },
     "execution_count": 46,
     "metadata": {},
     "output_type": "execute_result"
    },
    {
     "data": {
      "image/png": "[encoded data removed]",
      "text/plain": [
       "<Figure size 432x288 with 1 Axes>"
      ]
     },
     "metadata": {},
     "output_type": "display_data"
    }
   ],
   "source": [
    "data.polarity.value_counts().plot.bar()\n",
    "data.polarity.value_counts()"
   ]
  },
  {
   "cell_type": "code",
   "execution_count": 70,
   "id": "3705dfc0",
   "metadata": {},
   "outputs": [
    {
     "name": "stderr",
     "output_type": "stream",
     "text": [
      "<ipython-input-70-6449e18ae98c>:13: SettingWithCopyWarning: \n",
      "A value is trying to be set on a copy of a slice from a DataFrame.\n",
      "Try using .loc[row_indexer,col_indexer] = value instead\n",
      "\n",
      "See the caveats in the documentation: https://pandas.pydata.org/pandas-docs/stable/user_guide/indexing.html#returning-a-view-versus-a-copy\n",
      "  data1['polarity'] = polarity\n",
      "<ipython-input-70-6449e18ae98c>:14: SettingWithCopyWarning: \n",
      "A value is trying to be set on a copy of a slice from a DataFrame.\n",
      "Try using .loc[row_indexer,col_indexer] = value instead\n",
      "\n",
      "See the caveats in the documentation: https://pandas.pydata.org/pandas-docs/stable/user_guide/indexing.html#returning-a-view-versus-a-copy\n",
      "  data1['subjectivity'] = subjectivity\n"
     ]
    },
    {
     "data": {
      "text/plain": [
       "0.2923800287877523"
      ]
     },
     "execution_count": 70,
     "metadata": {},
     "output_type": "execute_result"
    }
   ],
   "source": [
    "data1=data.loc[data['firm'] == 'American-Express']\n",
    "polarity=[] # list which will contain the polarity of the comments\n",
    "subjectivity=[] # list which will contain the subjectivity of the comments\n",
    "for i in data1['pros'].values:\n",
    "    try:\n",
    "        analysis =TextBlob(i)\n",
    "        polarity.append(analysis.sentiment.polarity)\n",
    "        subjectivity.append(analysis.sentiment.subjectivity)\n",
    "        \n",
    "    except:\n",
    "        polarity.append(0)\n",
    "        subjectivity.append(0)\n",
    "data1['polarity'] = polarity\n",
    "data1['subjectivity'] = subjectivity\n",
    "\n",
    "data1['polarity'].mean()"
   ]
  },
  {
   "cell_type": "code",
   "execution_count": 69,
   "id": "41c324fd",
   "metadata": {},
   "outputs": [
    {
     "name": "stderr",
     "output_type": "stream",
     "text": [
      "<ipython-input-69-a7a9a9f0f300>:13: SettingWithCopyWarning: \n",
      "A value is trying to be set on a copy of a slice from a DataFrame.\n",
      "Try using .loc[row_indexer,col_indexer] = value instead\n",
      "\n",
      "See the caveats in the documentation: https://pandas.pydata.org/pandas-docs/stable/user_guide/indexing.html#returning-a-view-versus-a-copy\n",
      "  data2['polarity'] = polarity\n",
      "<ipython-input-69-a7a9a9f0f300>:14: SettingWithCopyWarning: \n",
      "A value is trying to be set on a copy of a slice from a DataFrame.\n",
      "Try using .loc[row_indexer,col_indexer] = value instead\n",
      "\n",
      "See the caveats in the documentation: https://pandas.pydata.org/pandas-docs/stable/user_guide/indexing.html#returning-a-view-versus-a-copy\n",
      "  data2['subjectivity'] = subjectivity\n"
     ]
    },
    {
     "data": {
      "text/plain": [
       "0.31903834966321626"
      ]
     },
     "execution_count": 69,
     "metadata": {},
     "output_type": "execute_result"
    }
   ],
   "source": [
    "data2=data.loc[data['firm'] == 'Accenture']\n",
    "polarity=[] # list which will contain the polarity of the comments\n",
    "subjectivity=[] # list which will contain the subjectivity of the comments\n",
    "for i in data2['pros'].values:\n",
    "    try:\n",
    "        analysis =TextBlob(i)\n",
    "        polarity.append(analysis.sentiment.polarity)\n",
    "        subjectivity.append(analysis.sentiment.subjectivity)\n",
    "        \n",
    "    except:\n",
    "        polarity.append(0)\n",
    "        subjectivity.append(0)\n",
    "data2['polarity'] = polarity\n",
    "data2['subjectivity'] = subjectivity\n",
    "\n",
    "data2['polarity'].mean()"
   ]
  },
  {
   "cell_type": "code",
   "execution_count": 68,
   "id": "654ee446",
   "metadata": {},
   "outputs": [
    {
     "name": "stderr",
     "output_type": "stream",
     "text": [
      "<ipython-input-68-07700b38c0b9>:13: SettingWithCopyWarning: \n",
      "A value is trying to be set on a copy of a slice from a DataFrame.\n",
      "Try using .loc[row_indexer,col_indexer] = value instead\n",
      "\n",
      "See the caveats in the documentation: https://pandas.pydata.org/pandas-docs/stable/user_guide/indexing.html#returning-a-view-versus-a-copy\n",
      "  data3['polarity'] = polarity\n",
      "<ipython-input-68-07700b38c0b9>:14: SettingWithCopyWarning: \n",
      "A value is trying to be set on a copy of a slice from a DataFrame.\n",
      "Try using .loc[row_indexer,col_indexer] = value instead\n",
      "\n",
      "See the caveats in the documentation: https://pandas.pydata.org/pandas-docs/stable/user_guide/indexing.html#returning-a-view-versus-a-copy\n",
      "  data3['subjectivity'] = subjectivity\n"
     ]
    },
    {
     "data": {
      "text/plain": [
       "0.3351097029838281"
      ]
     },
     "execution_count": 68,
     "metadata": {},
     "output_type": "execute_result"
    }
   ],
   "source": [
    "data3=data.loc[data['firm'] == 'Apple']\n",
    "polarity=[] # list which will contain the polarity of the comments\n",
    "subjectivity=[] # list which will contain the subjectivity of the comments\n",
    "for i in data3['pros'].values:\n",
    "    try:\n",
    "        analysis =TextBlob(i)\n",
    "        polarity.append(analysis.sentiment.polarity)\n",
    "        subjectivity.append(analysis.sentiment.subjectivity)\n",
    "        \n",
    "    except:\n",
    "        polarity.append(0)\n",
    "        subjectivity.append(0)\n",
    "data3['polarity'] = polarity\n",
    "data3['subjectivity'] = subjectivity\n",
    "\n",
    "data3['polarity'].mean()"
   ]
  },
  {
   "cell_type": "code",
   "execution_count": 67,
   "id": "da5921ac",
   "metadata": {},
   "outputs": [
    {
     "name": "stderr",
     "output_type": "stream",
     "text": [
      "<ipython-input-67-50fca9b59828>:13: SettingWithCopyWarning: \n",
      "A value is trying to be set on a copy of a slice from a DataFrame.\n",
      "Try using .loc[row_indexer,col_indexer] = value instead\n",
      "\n",
      "See the caveats in the documentation: https://pandas.pydata.org/pandas-docs/stable/user_guide/indexing.html#returning-a-view-versus-a-copy\n",
      "  data4['polarity'] = polarity\n",
      "<ipython-input-67-50fca9b59828>:14: SettingWithCopyWarning: \n",
      "A value is trying to be set on a copy of a slice from a DataFrame.\n",
      "Try using .loc[row_indexer,col_indexer] = value instead\n",
      "\n",
      "See the caveats in the documentation: https://pandas.pydata.org/pandas-docs/stable/user_guide/indexing.html#returning-a-view-versus-a-copy\n",
      "  data4['subjectivity'] = subjectivity\n"
     ]
    },
    {
     "data": {
      "text/plain": [
       "0.2904350340676369"
      ]
     },
     "execution_count": 67,
     "metadata": {},
     "output_type": "execute_result"
    }
   ],
   "source": [
    "data4=data.loc[data['firm'] == 'Barclays']\n",
    "polarity=[] # list which will contain the polarity of the comments\n",
    "subjectivity=[] # list which will contain the subjectivity of the comments\n",
    "for i in data4['pros'].values:\n",
    "    try:\n",
    "        analysis =TextBlob(i)\n",
    "        polarity.append(analysis.sentiment.polarity)\n",
    "        subjectivity.append(analysis.sentiment.subjectivity)\n",
    "        \n",
    "    except:\n",
    "        polarity.append(0)\n",
    "        subjectivity.append(0)\n",
    "data4['polarity'] = polarity\n",
    "data4['subjectivity'] = subjectivity\n",
    "\n",
    "data4['polarity'].mean()"
   ]
  },
  {
   "cell_type": "code",
   "execution_count": 66,
   "id": "8be8ad66",
   "metadata": {},
   "outputs": [
    {
     "name": "stderr",
     "output_type": "stream",
     "text": [
      "<ipython-input-66-2c4ed228c1c7>:13: SettingWithCopyWarning: \n",
      "A value is trying to be set on a copy of a slice from a DataFrame.\n",
      "Try using .loc[row_indexer,col_indexer] = value instead\n",
      "\n",
      "See the caveats in the documentation: https://pandas.pydata.org/pandas-docs/stable/user_guide/indexing.html#returning-a-view-versus-a-copy\n",
      "  data5['polarity'] = polarity\n",
      "<ipython-input-66-2c4ed228c1c7>:14: SettingWithCopyWarning: \n",
      "A value is trying to be set on a copy of a slice from a DataFrame.\n",
      "Try using .loc[row_indexer,col_indexer] = value instead\n",
      "\n",
      "See the caveats in the documentation: https://pandas.pydata.org/pandas-docs/stable/user_guide/indexing.html#returning-a-view-versus-a-copy\n",
      "  data5['subjectivity'] = subjectivity\n"
     ]
    },
    {
     "data": {
      "text/plain": [
       "0.26099175280501813"
      ]
     },
     "execution_count": 66,
     "metadata": {},
     "output_type": "execute_result"
    }
   ],
   "source": [
    "data5=data.loc[data['firm'] == 'Citi']\n",
    "polarity=[] # list which will contain the polarity of the comments\n",
    "subjectivity=[] # list which will contain the subjectivity of the comments\n",
    "for i in data5['pros'].values:\n",
    "    try:\n",
    "        analysis =TextBlob(i)\n",
    "        polarity.append(analysis.sentiment.polarity)\n",
    "        subjectivity.append(analysis.sentiment.subjectivity)\n",
    "        \n",
    "    except:\n",
    "        polarity.append(0)\n",
    "        subjectivity.append(0)\n",
    "data5['polarity'] = polarity\n",
    "data5['subjectivity'] = subjectivity\n",
    "\n",
    "data5['polarity'].mean()"
   ]
  },
  {
   "cell_type": "code",
   "execution_count": 65,
   "id": "296ff85c",
   "metadata": {},
   "outputs": [
    {
     "name": "stderr",
     "output_type": "stream",
     "text": [
      "<ipython-input-65-b09afa36cf84>:13: SettingWithCopyWarning: \n",
      "A value is trying to be set on a copy of a slice from a DataFrame.\n",
      "Try using .loc[row_indexer,col_indexer] = value instead\n",
      "\n",
      "See the caveats in the documentation: https://pandas.pydata.org/pandas-docs/stable/user_guide/indexing.html#returning-a-view-versus-a-copy\n",
      "  data6['polarity'] = polarity\n",
      "<ipython-input-65-b09afa36cf84>:14: SettingWithCopyWarning: \n",
      "A value is trying to be set on a copy of a slice from a DataFrame.\n",
      "Try using .loc[row_indexer,col_indexer] = value instead\n",
      "\n",
      "See the caveats in the documentation: https://pandas.pydata.org/pandas-docs/stable/user_guide/indexing.html#returning-a-view-versus-a-copy\n",
      "  data6['subjectivity'] = subjectivity\n"
     ]
    },
    {
     "data": {
      "text/plain": [
       "0.23557635548859251"
      ]
     },
     "execution_count": 65,
     "metadata": {},
     "output_type": "execute_result"
    }
   ],
   "source": [
    "data6=data.loc[data['firm'] == 'EY']\n",
    "polarity=[] # list which will contain the polarity of the comments\n",
    "subjectivity=[] # list which will contain the subjectivity of the comments\n",
    "for i in data6['pros'].values:\n",
    "    try:\n",
    "        analysis =TextBlob(i)\n",
    "        polarity.append(analysis.sentiment.polarity)\n",
    "        subjectivity.append(analysis.sentiment.subjectivity)\n",
    "        \n",
    "    except:\n",
    "        polarity.append(0)\n",
    "        subjectivity.append(0)\n",
    "data6['polarity'] = polarity\n",
    "data6['subjectivity'] = subjectivity\n",
    "\n",
    "data6['polarity'].mean()"
   ]
  },
  {
   "cell_type": "code",
   "execution_count": 64,
   "id": "e1fd5bb6",
   "metadata": {},
   "outputs": [
    {
     "name": "stderr",
     "output_type": "stream",
     "text": [
      "<ipython-input-64-ca073d120d96>:13: SettingWithCopyWarning: \n",
      "A value is trying to be set on a copy of a slice from a DataFrame.\n",
      "Try using .loc[row_indexer,col_indexer] = value instead\n",
      "\n",
      "See the caveats in the documentation: https://pandas.pydata.org/pandas-docs/stable/user_guide/indexing.html#returning-a-view-versus-a-copy\n",
      "  data7['polarity'] = polarity\n",
      "<ipython-input-64-ca073d120d96>:14: SettingWithCopyWarning: \n",
      "A value is trying to be set on a copy of a slice from a DataFrame.\n",
      "Try using .loc[row_indexer,col_indexer] = value instead\n",
      "\n",
      "See the caveats in the documentation: https://pandas.pydata.org/pandas-docs/stable/user_guide/indexing.html#returning-a-view-versus-a-copy\n",
      "  data7['subjectivity'] = subjectivity\n"
     ]
    },
    {
     "data": {
      "text/plain": [
       "0.3099229124356439"
      ]
     },
     "execution_count": 64,
     "metadata": {},
     "output_type": "execute_result"
    }
   ],
   "source": [
    "data7=data.loc[data['firm'] == 'Goldman-Sachs']\n",
    "polarity=[] # list which will contain the polarity of the comments\n",
    "subjectivity=[] # list which will contain the subjectivity of the comments\n",
    "for i in data7['pros'].values:\n",
    "    try:\n",
    "        analysis =TextBlob(i)\n",
    "        polarity.append(analysis.sentiment.polarity)\n",
    "        subjectivity.append(analysis.sentiment.subjectivity)\n",
    "        \n",
    "    except:\n",
    "        polarity.append(0)\n",
    "        subjectivity.append(0)\n",
    "data7['polarity'] = polarity\n",
    "data7['subjectivity'] = subjectivity\n",
    "\n",
    "data7['polarity'].mean()"
   ]
  },
  {
   "cell_type": "code",
   "execution_count": 80,
   "id": "5016ba00",
   "metadata": {},
   "outputs": [
    {
     "data": {
      "text/html": [
       "<div>\n",
       "<style scoped>\n",
       "    .dataframe tbody tr th:only-of-type {\n",
       "        vertical-align: middle;\n",
       "    }\n",
       "\n",
       "    .dataframe tbody tr th {\n",
       "        vertical-align: top;\n",
       "    }\n",
       "\n",
       "    .dataframe thead th {\n",
       "        text-align: right;\n",
       "    }\n",
       "</style>\n",
       "<table border=\"1\" class=\"dataframe\">\n",
       "  <thead>\n",
       "    <tr style=\"text-align: right;\">\n",
       "      <th></th>\n",
       "      <th>Company</th>\n",
       "      <th>Sentiment</th>\n",
       "    </tr>\n",
       "  </thead>\n",
       "  <tbody>\n",
       "    <tr>\n",
       "      <th>0</th>\n",
       "      <td>American-Express</td>\n",
       "      <td>0.2923</td>\n",
       "    </tr>\n",
       "    <tr>\n",
       "      <th>1</th>\n",
       "      <td>Accenture</td>\n",
       "      <td>0.3190</td>\n",
       "    </tr>\n",
       "    <tr>\n",
       "      <th>2</th>\n",
       "      <td>Apple</td>\n",
       "      <td>0.3351</td>\n",
       "    </tr>\n",
       "    <tr>\n",
       "      <th>3</th>\n",
       "      <td>Barclays</td>\n",
       "      <td>0.2904</td>\n",
       "    </tr>\n",
       "    <tr>\n",
       "      <th>4</th>\n",
       "      <td>Citi</td>\n",
       "      <td>0.2609</td>\n",
       "    </tr>\n",
       "    <tr>\n",
       "      <th>5</th>\n",
       "      <td>EY</td>\n",
       "      <td>0.2355</td>\n",
       "    </tr>\n",
       "    <tr>\n",
       "      <th>6</th>\n",
       "      <td>Goldman-Sachs</td>\n",
       "      <td>0.3099</td>\n",
       "    </tr>\n",
       "  </tbody>\n",
       "</table>\n",
       "</div>"
      ],
      "text/plain": [
       "            Company  Sentiment\n",
       "0  American-Express     0.2923\n",
       "1         Accenture     0.3190\n",
       "2             Apple     0.3351\n",
       "3          Barclays     0.2904\n",
       "4              Citi     0.2609\n",
       "5                EY     0.2355\n",
       "6     Goldman-Sachs     0.3099"
      ]
     },
     "execution_count": 80,
     "metadata": {},
     "output_type": "execute_result"
    }
   ],
   "source": [
    "Companies = [['American-Express', 0.2923], ['Accenture', 0.3190], ['Apple', 0.3351],['Barclays', 0.2904],['Citi', 0.2609],['EY', 0.2355],['Goldman-Sachs', 0.3099]]\n",
    "C = pd.DataFrame(Companies, columns=['Company', 'Sentiment'])\n",
    "C"
   ]
  },
  {
   "cell_type": "code",
   "execution_count": 85,
   "id": "750a75ab",
   "metadata": {},
   "outputs": [
    {
     "data": {
      "image/png": "[encoded data removed]",
      "text/plain": [
       "<Figure size 432x288 with 1 Axes>"
      ]
     },
     "metadata": {},
     "output_type": "display_data"
    }
   ],
   "source": [
    "ax = C.plot.barh(x='Company', y='Sentiment', rot=0)"
   ]
  },
  {
   "cell_type": "code",
   "execution_count": null,
   "id": "97edd347",
   "metadata": {},
   "outputs": [],
   "source": []
  }
 ],
 "metadata": {
  "kernelspec": {
   "display_name": "Python 3",
   "language": "python",
   "name": "python3"
  },
  "language_info": {
   "codemirror_mode": {
    "name": "ipython",
    "version": 3
   },
   "file_extension": ".py",
   "mimetype": "text/x-python",
   "name": "python",
   "nbconvert_exporter": "python",
   "pygments_lexer": "ipython3",
   "version": "3.8.8"
  },
  "papermill": {
   "default_parameters": {},
   "duration": 344.26044,
   "end_time": "2022-11-08T17:15:12.724426",
   "environment_variables": {},
   "exception": null,
   "input_path": "__notebook__.ipynb",
   "output_path": "__notebook__.ipynb",
   "parameters": {},
   "start_time": "2022-11-08T17:09:28.463986",
   "version": "2.3.4"
  }
 },
 "nbformat": 4,
 "nbformat_minor": 5
}
